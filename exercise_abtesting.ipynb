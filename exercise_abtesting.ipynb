{
 "cells": [
  {
   "cell_type": "markdown",
   "metadata": {},
   "source": [
    "# A/B Testing the Udacity Website\n",
    "\n",
    "In these exercises, we'll be analyzing data on user behavior from an experiment run by Udacity, the online education company. More specifically, we'll be looking at a test Udacity ran to improve the onboarding process on their site.\n",
    "\n",
    "Udacity's test is an example of an \"A/B\" test, in which some portion of users visiting a website (or using an app) are randomly selected to see a new version of the site. An analyst can then compare the behavior of users who see a new website design to users seeing their normal website to estimate the effect of rolling out the proposed changes to all users. While this kind of experiment has it's own name in industry (A/B testing), to be clear it's just a randomized experiment, and so everything we've learned about potential outcomes and randomized experiments apply here. \n",
    "\n",
    "(Udacity has generously provides the data from this test under an Apache open-source license, and you can find their [original writeup here](https://www.kaggle.com/tammyrotem/ab-tests-with-python/notebook). If you're interested in learning more on A/B testing in particular, it seems only fair while we use their data to flag they have a full course on the subject [here](https://www.udacity.com/course/ab-testing--ud257).)\n",
    "\n",
    "## Udacity's Test\n",
    "\n",
    "The test [is described by Udacity as follows](https://www.kaggle.com/tammyrotem/ab-tests-with-python/notebook): \n",
    "\n",
    "At the time of this experiment, Udacity courses currently have two options on the course overview page: \"start free trial\", and \"access course materials\".\n",
    "\n",
    "**Current Conditions Before Change**\n",
    "\n",
    "- If the student clicks \"start free trial\", they will be asked to enter their credit card information, and then they will be enrolled in a free trial for the paid version of the course. After 14 days, they will automatically be charged unless they cancel first.\n",
    "- If the student clicks \"access course materials\", they will be able to view the videos and take the quizzes for free, but they will not receive coaching support or a verified certificate, and they will not submit their final project for feedback.\n",
    "\n",
    "**Description of Experimented Change**\n",
    "\n",
    "- In the experiment, Udacity tested a change where if the student clicked \"start free trial\", they were asked how much time they had available to devote to the course.\n",
    "- If the student indicated 5 or more hours per week, they would be taken through the checkout process as usual. If they indicated fewer than 5 hours per week, a message would appear indicating that Udacity courses usually require a greater time commitment for successful completion, and suggesting that the student might like to access the course materials for free.\n",
    "- At this point, the student would have the option to continue enrolling in the free trial, or access the course materials for free instead. This [screenshot](images/udacity_checkyoureready.png) shows what the experiment looks like.\n",
    "\n",
    "**Udacity's Hope is that...**:\n",
    "\n",
    "> this might set clearer expectations for students upfront, thus reducing the number of frustrated students who left the free trial because they didn't have enough time -- without significantly reducing the number of students to continue past the free trial and eventually complete the course. If this hypothesis held true, Udacity could improve the overall student experience and improve coaches' capacity to support students who are likely to complete the course.\n"
   ]
  },
  {
   "cell_type": "markdown",
   "metadata": {},
   "source": [
    "\n",
    "## Gradescope Autograding\n",
    "\n",
    "Please follow [all standard guidance](https://www.practicaldatascience.org/html/autograder_guidelines.html) for submitting this assignment to the Gradescope autograder, including storing your solutions in a dictionary called `results` and ensuring your notebook runs from the start to completion without any errors.\n",
    "\n",
    "For this assignment, please name your file `exercise_abtesting.ipynb` before uploading.\n",
    "\n",
    "You can check that you have answers for all questions in your `results` dictionary with this code:\n",
    "\n",
    "```python\n",
    "assert set(results.keys()) == {\n",
    "    \"ex4_avg_oec\",\n",
    "    \"ex5_avg_guardrail\",\n",
    "    \"ex7_ttest_pvalue\",\n",
    "    \"ex9_ttest_pvalue_clicks\",\n",
    "    \"ex10_num_obs\",\n",
    "    \"ex11_guard_ate\",\n",
    "    \"ex11_guard_pvalue\",\n",
    "    \"ex11_oec_ate\",\n",
    "    \"ex11_oec_pvalue\",\n",
    "    \"ex14_se_treatment\",\n",
    "}\n",
    "```\n",
    "\n",
    "\n",
    "### Submission Limits\n",
    "\n",
    "Please remember that you are **only allowed FOUR submissions to the autograder.** Your last submission (if you submit 4 or fewer times), or your third submission (if you submit more than 4 times) will determine your grade Submissions that error out will **not** count against this total.\n",
    "\n",
    "That's one more than usual in case there are issues with exercise clarity."
   ]
  },
  {
   "cell_type": "markdown",
   "metadata": {},
   "source": [
    "## Import the Data"
   ]
  },
  {
   "cell_type": "markdown",
   "metadata": {},
   "source": [
    "### Exercise 1\n",
    "\n",
    "Begin by importing Udacity's data on user behavior [here.](https://github.com/nickeubank/MIDS_Data/tree/master/udacity_AB_testing) \n",
    "\n",
    "There are TWO datasets for this test — one for the control data (users who saw the original design), and one for treatment data (users who saw the experimental design). Udacity decided to show their test site to 1/2 of visitors, so there are roughly the same number of users appearing in each dataset (though this is not a requirement of AB tests).\n",
    "\n",
    "Please remember to load the data directly from github to assist the autograder."
   ]
  },
  {
   "cell_type": "code",
   "execution_count": 1,
   "metadata": {},
   "outputs": [],
   "source": [
    "import pandas as pd\n",
    "import warnings\n",
    "\n",
    "warnings.filterwarnings(\"ignore\")\n",
    "\n",
    "pd.set_option(\"mode.copy_on_write\", True)\n",
    "\n",
    "# load the 1st dataset\n",
    "control = pd.read_csv(\n",
    "    \"https://github.com/nickeubank/MIDS_Data/raw/master/udacity_AB_testing/control_data.csv\"\n",
    ")"
   ]
  },
  {
   "cell_type": "code",
   "execution_count": 2,
   "metadata": {},
   "outputs": [
    {
     "data": {
      "text/html": [
       "<div>\n",
       "<style scoped>\n",
       "    .dataframe tbody tr th:only-of-type {\n",
       "        vertical-align: middle;\n",
       "    }\n",
       "\n",
       "    .dataframe tbody tr th {\n",
       "        vertical-align: top;\n",
       "    }\n",
       "\n",
       "    .dataframe thead th {\n",
       "        text-align: right;\n",
       "    }\n",
       "</style>\n",
       "<table border=\"1\" class=\"dataframe\">\n",
       "  <thead>\n",
       "    <tr style=\"text-align: right;\">\n",
       "      <th></th>\n",
       "      <th>Date</th>\n",
       "      <th>Pageviews</th>\n",
       "      <th>Clicks</th>\n",
       "      <th>Enrollments</th>\n",
       "      <th>Payments</th>\n",
       "    </tr>\n",
       "  </thead>\n",
       "  <tbody>\n",
       "    <tr>\n",
       "      <th>0</th>\n",
       "      <td>Sat, Oct 11</td>\n",
       "      <td>7723</td>\n",
       "      <td>687</td>\n",
       "      <td>134.0</td>\n",
       "      <td>70.0</td>\n",
       "    </tr>\n",
       "    <tr>\n",
       "      <th>1</th>\n",
       "      <td>Sun, Oct 12</td>\n",
       "      <td>9102</td>\n",
       "      <td>779</td>\n",
       "      <td>147.0</td>\n",
       "      <td>70.0</td>\n",
       "    </tr>\n",
       "    <tr>\n",
       "      <th>2</th>\n",
       "      <td>Mon, Oct 13</td>\n",
       "      <td>10511</td>\n",
       "      <td>909</td>\n",
       "      <td>167.0</td>\n",
       "      <td>95.0</td>\n",
       "    </tr>\n",
       "    <tr>\n",
       "      <th>3</th>\n",
       "      <td>Tue, Oct 14</td>\n",
       "      <td>9871</td>\n",
       "      <td>836</td>\n",
       "      <td>156.0</td>\n",
       "      <td>105.0</td>\n",
       "    </tr>\n",
       "    <tr>\n",
       "      <th>4</th>\n",
       "      <td>Wed, Oct 15</td>\n",
       "      <td>10014</td>\n",
       "      <td>837</td>\n",
       "      <td>163.0</td>\n",
       "      <td>64.0</td>\n",
       "    </tr>\n",
       "  </tbody>\n",
       "</table>\n",
       "</div>"
      ],
      "text/plain": [
       "          Date  Pageviews  Clicks  Enrollments  Payments\n",
       "0  Sat, Oct 11       7723     687        134.0      70.0\n",
       "1  Sun, Oct 12       9102     779        147.0      70.0\n",
       "2  Mon, Oct 13      10511     909        167.0      95.0\n",
       "3  Tue, Oct 14       9871     836        156.0     105.0\n",
       "4  Wed, Oct 15      10014     837        163.0      64.0"
      ]
     },
     "execution_count": 2,
     "metadata": {},
     "output_type": "execute_result"
    }
   ],
   "source": [
    "control.head()"
   ]
  },
  {
   "cell_type": "code",
   "execution_count": 3,
   "metadata": {},
   "outputs": [],
   "source": [
    "# load the 2nd dataset\n",
    "experiment = pd.read_csv(\n",
    "    \"https://github.com/nickeubank/MIDS_Data/raw/master/udacity_AB_testing/experiment_data.csv\"\n",
    ")"
   ]
  },
  {
   "cell_type": "code",
   "execution_count": 4,
   "metadata": {},
   "outputs": [
    {
     "data": {
      "text/html": [
       "<div>\n",
       "<style scoped>\n",
       "    .dataframe tbody tr th:only-of-type {\n",
       "        vertical-align: middle;\n",
       "    }\n",
       "\n",
       "    .dataframe tbody tr th {\n",
       "        vertical-align: top;\n",
       "    }\n",
       "\n",
       "    .dataframe thead th {\n",
       "        text-align: right;\n",
       "    }\n",
       "</style>\n",
       "<table border=\"1\" class=\"dataframe\">\n",
       "  <thead>\n",
       "    <tr style=\"text-align: right;\">\n",
       "      <th></th>\n",
       "      <th>Date</th>\n",
       "      <th>Pageviews</th>\n",
       "      <th>Clicks</th>\n",
       "      <th>Enrollments</th>\n",
       "      <th>Payments</th>\n",
       "    </tr>\n",
       "  </thead>\n",
       "  <tbody>\n",
       "    <tr>\n",
       "      <th>0</th>\n",
       "      <td>Sat, Oct 11</td>\n",
       "      <td>7716</td>\n",
       "      <td>686</td>\n",
       "      <td>105.0</td>\n",
       "      <td>34.0</td>\n",
       "    </tr>\n",
       "    <tr>\n",
       "      <th>1</th>\n",
       "      <td>Sun, Oct 12</td>\n",
       "      <td>9288</td>\n",
       "      <td>785</td>\n",
       "      <td>116.0</td>\n",
       "      <td>91.0</td>\n",
       "    </tr>\n",
       "    <tr>\n",
       "      <th>2</th>\n",
       "      <td>Mon, Oct 13</td>\n",
       "      <td>10480</td>\n",
       "      <td>884</td>\n",
       "      <td>145.0</td>\n",
       "      <td>79.0</td>\n",
       "    </tr>\n",
       "    <tr>\n",
       "      <th>3</th>\n",
       "      <td>Tue, Oct 14</td>\n",
       "      <td>9867</td>\n",
       "      <td>827</td>\n",
       "      <td>138.0</td>\n",
       "      <td>92.0</td>\n",
       "    </tr>\n",
       "    <tr>\n",
       "      <th>4</th>\n",
       "      <td>Wed, Oct 15</td>\n",
       "      <td>9793</td>\n",
       "      <td>832</td>\n",
       "      <td>140.0</td>\n",
       "      <td>94.0</td>\n",
       "    </tr>\n",
       "  </tbody>\n",
       "</table>\n",
       "</div>"
      ],
      "text/plain": [
       "          Date  Pageviews  Clicks  Enrollments  Payments\n",
       "0  Sat, Oct 11       7716     686        105.0      34.0\n",
       "1  Sun, Oct 12       9288     785        116.0      91.0\n",
       "2  Mon, Oct 13      10480     884        145.0      79.0\n",
       "3  Tue, Oct 14       9867     827        138.0      92.0\n",
       "4  Wed, Oct 15       9793     832        140.0      94.0"
      ]
     },
     "execution_count": 4,
     "metadata": {},
     "output_type": "execute_result"
    }
   ],
   "source": [
    "experiment.head()"
   ]
  },
  {
   "cell_type": "markdown",
   "metadata": {},
   "source": [
    "### Exercise 2\n",
    "\n",
    "Explore the data. Can you identify the unit of observation of the data (e.g. what is represented by each row)?\n",
    "\n",
    "(Note this is not the only way that A/B test data can be collected and/or reported — this is just what Udacity provided, presumably to help address privacy concerns.)"
   ]
  },
  {
   "cell_type": "code",
   "execution_count": 5,
   "metadata": {},
   "outputs": [
    {
     "name": "stdout",
     "output_type": "stream",
     "text": [
      "\n",
      "Control Group Info:\n",
      "<class 'pandas.core.frame.DataFrame'>\n",
      "RangeIndex: 37 entries, 0 to 36\n",
      "Data columns (total 5 columns):\n",
      " #   Column       Non-Null Count  Dtype  \n",
      "---  ------       --------------  -----  \n",
      " 0   Date         37 non-null     object \n",
      " 1   Pageviews    37 non-null     int64  \n",
      " 2   Clicks       37 non-null     int64  \n",
      " 3   Enrollments  23 non-null     float64\n",
      " 4   Payments     23 non-null     float64\n",
      "dtypes: float64(2), int64(2), object(1)\n",
      "memory usage: 1.6+ KB\n",
      "None\n",
      "\n",
      "Experiment Group Info:\n",
      "<class 'pandas.core.frame.DataFrame'>\n",
      "RangeIndex: 37 entries, 0 to 36\n",
      "Data columns (total 5 columns):\n",
      " #   Column       Non-Null Count  Dtype  \n",
      "---  ------       --------------  -----  \n",
      " 0   Date         37 non-null     object \n",
      " 1   Pageviews    37 non-null     int64  \n",
      " 2   Clicks       37 non-null     int64  \n",
      " 3   Enrollments  23 non-null     float64\n",
      " 4   Payments     23 non-null     float64\n",
      "dtypes: float64(2), int64(2), object(1)\n",
      "memory usage: 1.6+ KB\n",
      "None\n"
     ]
    }
   ],
   "source": [
    "print(\"\\nControl Group Info:\")\n",
    "print(control.info())\n",
    "print(\"\\nExperiment Group Info:\")\n",
    "print(experiment.info())"
   ]
  },
  {
   "cell_type": "code",
   "execution_count": 6,
   "metadata": {},
   "outputs": [
    {
     "name": "stdout",
     "output_type": "stream",
     "text": [
      "\n",
      "Control Group Summary Statistics:\n",
      "          Pageviews      Clicks  Enrollments    Payments\n",
      "count     37.000000   37.000000    23.000000   23.000000\n",
      "mean    9339.000000  766.972973   164.565217   88.391304\n",
      "std      740.239563   68.286767    29.977000   20.650202\n",
      "min     7434.000000  632.000000   110.000000   56.000000\n",
      "25%     8896.000000  708.000000   146.500000   70.000000\n",
      "50%     9420.000000  759.000000   162.000000   91.000000\n",
      "75%     9871.000000  825.000000   175.000000  102.500000\n",
      "max    10667.000000  909.000000   233.000000  128.000000\n",
      "\n",
      "Experiment Group Summary Statistics:\n",
      "          Pageviews      Clicks  Enrollments    Payments\n",
      "count     37.000000   37.000000    23.000000   23.000000\n",
      "mean    9315.135135  765.540541   148.826087   84.565217\n",
      "std      708.070781   64.578374    33.234227   23.060841\n",
      "min     7664.000000  642.000000    94.000000   34.000000\n",
      "25%     8881.000000  722.000000   127.000000   69.000000\n",
      "50%     9359.000000  770.000000   142.000000   91.000000\n",
      "75%     9737.000000  827.000000   172.000000   99.000000\n",
      "max    10551.000000  884.000000   213.000000  123.000000\n",
      "\n",
      "Missing Values in Control Group:\n",
      "Date            0\n",
      "Pageviews       0\n",
      "Clicks          0\n",
      "Enrollments    14\n",
      "Payments       14\n",
      "dtype: int64\n",
      "\n",
      "Missing Values in Experiment Group:\n",
      "Date            0\n",
      "Pageviews       0\n",
      "Clicks          0\n",
      "Enrollments    14\n",
      "Payments       14\n",
      "dtype: int64\n"
     ]
    }
   ],
   "source": [
    "print(\"\\nControl Group Summary Statistics:\")\n",
    "print(control.describe())\n",
    "print(\"\\nExperiment Group Summary Statistics:\")\n",
    "print(experiment.describe())\n",
    "\n",
    "# check for missing values in both datasets\n",
    "print(\"\\nMissing Values in Control Group:\")\n",
    "print(control.isnull().sum())\n",
    "print(\"\\nMissing Values in Experiment Group:\")\n",
    "print(experiment.isnull().sum())"
   ]
  },
  {
   "cell_type": "markdown",
   "metadata": {},
   "source": [
    "> The unit of observation in control and experiment datasets is daily data on webpage interactions. Each row represents aggregated data for a single day, including metrics like pageviews, clicks, enrollments, and payments. Both datasets consist of 37 entries, suggesting data was collected over 37 days.\n",
    "There are 14 missing values in both the ``Enrollments`` and ``Payments`` columns for both groups, indicating these metrics were not recorded or available for all days."
   ]
  },
  {
   "attachments": {},
   "cell_type": "markdown",
   "metadata": {},
   "source": [
    "## Pick your measures"
   ]
  },
  {
   "cell_type": "markdown",
   "metadata": {},
   "source": [
    "### Exercise 3\n",
    "\n",
    "The easiest way to analyze this data is to stack it into a single dataset where each observation is a day-treatment-arm (so you should end up with two rows per day, one for those who are in the treated groups, and one for those who were in the control group). Note that currently nothing in the data identifies whether a given observation is a treatment group observation or a control group observation, so you'll want to make sure to add a \"treatment\" indicator variable.\n",
    "\n",
    "The variables in the data are:\n",
    "\n",
    "- Pageviews: number of unique users visiting homepage\n",
    "- Clicks: number of those users clicking \"Start Free Trial\"\n",
    "- Enrollments: Number of people enrolling in trial\n",
    "- Payments: Number of people who eventually pay for the service. Note the `payment` column reports payments for the users who first visited the site on the reported date, not payments occurring on the reported date."
   ]
  },
  {
   "cell_type": "code",
   "execution_count": 7,
   "metadata": {},
   "outputs": [
    {
     "name": "stdout",
     "output_type": "stream",
     "text": [
      "          Date    Group  Pageviews  Clicks  Enrollments  Payments\n",
      "0  Sat, Oct 11  Control       7723     687        134.0      70.0\n",
      "1  Sun, Oct 12  Control       9102     779        147.0      70.0\n",
      "2  Mon, Oct 13  Control      10511     909        167.0      95.0\n",
      "3  Tue, Oct 14  Control       9871     836        156.0     105.0\n",
      "4  Wed, Oct 15  Control      10014     837        163.0      64.0\n"
     ]
    }
   ],
   "source": [
    "# stack into single dataset\n",
    "\n",
    "# add a 'Group' column to each df to indicate the group: control or treatment\n",
    "control[\"Group\"] = \"Control\"\n",
    "experiment[\"Group\"] = \"Experiment\"\n",
    "\n",
    "# combine the two dfs into a single dataset\n",
    "combined_data = pd.concat([control, experiment], axis=0)\n",
    "\n",
    "# reorder the combined dataset if desired\n",
    "combined_data = combined_data[\n",
    "    [\"Date\", \"Group\", \"Pageviews\", \"Clicks\", \"Enrollments\", \"Payments\"]\n",
    "]\n",
    "\n",
    "# reset index of the combined df\n",
    "combined_data.reset_index(drop=True, inplace=True)\n",
    "\n",
    "print(combined_data.head())"
   ]
  },
  {
   "attachments": {},
   "cell_type": "markdown",
   "metadata": {},
   "source": [
    "### Exercise 4\n",
    "\n",
    "Given Udacity's goals, what outcome are they hoping will be impacted by their manipulation?\n",
    "\n",
    "Or, to ask the same question in the language of the Potential Outcomes Framework, what is their $Y$?\n",
    "\n",
    "Or to ask the same question in the language of Kohavi, Tang and Xu, what is their *Overall Evaluation Criterion (OEC)*?\n",
    "\n",
    "(I'm only asking one question, I'm just trying to phrase it using different terminologies we've encountered to help you see how they all fit together)\n",
    "\n",
    "When you feel like you have your answer, please compute it. Store the average value of the variable in `results` under the key `ex4_avg_oec`. **Please round your answer to 4 decimal places.**\n",
    "\n",
    "NOTE: You'll probably notice you have two choices to make when it comes to actually computing the OEC. \n",
    "\n",
    "- You could probably imagine either computing a ratio or a difference of two things — please calculate the difference.\n",
    "- You may also be unsure whether to normalize by `Clicks`. Normalizing by clicks will help account for variation that comes from day-to-day variation in users, so it's a good thing to do. With infinite data, you'd expect to get the same results without normalizing by `Clicks` (since on average the same share of users are in each arm of the experiment), but for finite data it's a good strategy. Note that this is only ok because users make the choice to click or not *before* they see different versions of the website (it is \"pre-treatment\").\n",
    "\n",
    "Just to make sure you're on track, your measure should have an average value of *about* 9%."
   ]
  },
  {
   "cell_type": "code",
   "execution_count": 8,
   "metadata": {},
   "outputs": [
    {
     "name": "stdout",
     "output_type": "stream",
     "text": [
      "The average difference in payment rate per click, normalized and expressed as a percentage, is approximately: 0.0941%\n"
     ]
    }
   ],
   "source": [
    "# filter out rows with missing 'Enrollments' or 'Payments' values\n",
    "# control_clean = control.dropna(subset=[\"Enrollments\", \"Payments\"])\n",
    "# experiment_clean = experiment.dropna(subset=[\"Enrollments\", \"Payments\"])\n",
    "\n",
    "# calculate the payment rate per click for combined group\n",
    "combined_data[\"payment_rate_per_click\"] = (\n",
    "    combined_data[\"Enrollments\"] - combined_data[\"Payments\"]\n",
    ") / combined_data[\"Clicks\"]\n",
    "\n",
    "# compute the average difference in payment rate per click\n",
    "avg_diff = combined_data[\"payment_rate_per_click\"].mean()\n",
    "\n",
    "results = {}\n",
    "results[\"ex4_avg_oec\"] = round(avg_diff, 4)\n",
    "\n",
    "print(\n",
    "    \"The average difference in payment rate per click, normalized \"\n",
    "    f\"and expressed as a percentage, is approximately: \"\n",
    "    f\"{results['ex4_avg_oec']}%\"\n",
    ")"
   ]
  },
  {
   "cell_type": "code",
   "execution_count": 10,
   "metadata": {},
   "outputs": [
    {
     "data": {
      "text/plain": [
       "{'ex4_avg_oec': 0.0941}"
      ]
     },
     "execution_count": 10,
     "metadata": {},
     "output_type": "execute_result"
    }
   ],
   "source": [
    "results"
   ]
  },
  {
   "attachments": {},
   "cell_type": "markdown",
   "metadata": {},
   "source": [
    "### Exercise 5\n",
    "\n",
    "Given Udacity's goals, what outcome are they hoping will *not* be impacted by their manipulation? In other words, what do they want to measure to ensure their treatment doesn't have unintended negative consequences that might be really costly to their operation?\n",
    "\n",
    "Note that while this isn't how Kohavi, Tang, and Xu use the term \"guardrail metrics\" — they usually use the term to refer to things we measure to ensure the experiment is working the way it should — some people would also use the term \"guardrail metrics\" for something that could be impacted even if the experiment is working correctly, but which the organization wants to track to ensure they aren't impacted because they are deemed really important.\n",
    "\n",
    "Again, please normalize by `Clicks`. Store the average value of this guardrail metric as `ex5_avg_guardrail` and **round your answer to 4 decimal places.**"
   ]
  },
  {
   "cell_type": "code",
   "execution_count": 32,
   "metadata": {},
   "outputs": [
    {
     "name": "stdout",
     "output_type": "stream",
     "text": [
      "The average value of the guardrail metric (CTR), normalized and rounded is: 0.1158\n"
     ]
    }
   ],
   "source": [
    "# Calculate Payments per Click\n",
    "combined_data[\"Payments_per_Click\"] = (\n",
    "    combined_data[\"Payments\"] / combined_data[\"Clicks\"]\n",
    ")\n",
    "\n",
    "# Calculate the average of Payments per Click, rounded to 4 decimal places\n",
    "ex5_avg_guardrail = round(combined_data[\"Payments_per_Click\"].mean(), 4)\n",
    "\n",
    "results[\"ex5_avg_guardrail\"] = ex5_avg_guardrail\n",
    "\n",
    "print(\n",
    "    f\"The average value of the guardrail metric (CTR), \"\n",
    "    f\"normalized and rounded is: {ex5_avg_guardrail}\"\n",
    ")"
   ]
  },
  {
   "cell_type": "code",
   "execution_count": 33,
   "metadata": {},
   "outputs": [
    {
     "data": {
      "text/plain": [
       "{'ex4_avg_oec': 0.0941,\n",
       " 'ex5_avg_guardrail': 0.1158,\n",
       " 'ex7_ttest_pvalue': 0.8877,\n",
       " 'ex9_ttest_pvalue_clicks': 0.9264,\n",
       " 'ex10_num_obs': 46,\n",
       " 'ex11_oec_ate': 1.5888,\n",
       " 'ex11_guard_ate': -0.0165,\n",
       " 'ex11_oec_pvalue': 0.1319,\n",
       " 'ex11_guard_pvalue': 0.8753,\n",
       " 'ex14_se_treatment': 0.0066}"
      ]
     },
     "execution_count": 33,
     "metadata": {},
     "output_type": "execute_result"
    }
   ],
   "source": [
    "results"
   ]
  },
  {
   "cell_type": "markdown",
   "metadata": {},
   "source": [
    "## Validating The Data"
   ]
  },
  {
   "attachments": {},
   "cell_type": "markdown",
   "metadata": {},
   "source": [
    "### Exercise 6\n",
    "\n",
    "Whenever you are working with experimental data, the first thing you want to do is verify that users actually were randomly sorted into the two arms of the experiment. In this data, half of users were supposed to be shown the old version of the site and half were supposed to see the new version.\n",
    "\n",
    "`Pageviews` tells you how many unique users visited the welcome site we are experimenting on. `Pageviews` is what is sometimes called an \"invariant\" or \"guardrail\" variable, meaning that it shouldn't vary across treatment arms—after all, people have to visit the site before they get a chance to see the treatment, so there's no way that being assigned to treatment or control should affect the number of pageviews assigned to each group.\n",
    "\n",
    "\"Invariant\" variables are also an example of what are known as a \"pre-treatment\" variable, because pageviews are determined before users are manipulated in any way. That makes it analogous to gender or age in experiments where you have demographic data—a person's age and gender are determined before they experience any manipulations, so the value of any pre-treatment attributes should be the same across the two arms of our experiment. This is what we've previously called \"checking for balance,\" If pre-treatment attributes aren't balanced, then we may worry our attempt to randomly assign people to different groups failed.  Kohavi, Tang and Xu call this a \"trust-based guardrail metric\" because it helps us determine if we should trust our data.\n",
    "\n",
    "To test the quality of the randomization, calculate the average number of pageviews for the treated group and for the control group. Do they look similar?\n"
   ]
  },
  {
   "cell_type": "code",
   "execution_count": 13,
   "metadata": {},
   "outputs": [
    {
     "name": "stdout",
     "output_type": "stream",
     "text": [
      "Average pageviews for control group: 9339.0\n",
      "Average pageviews for experiment group: 9315.1351\n"
     ]
    }
   ],
   "source": [
    "# calculate the avg of pageviews for the control group\n",
    "avg_pageviews_control = combined_data[combined_data[\"Group\"] == \"Control\"][\n",
    "    \"Pageviews\"\n",
    "].mean()\n",
    "\n",
    "# calculate the avg of pageviews for the treated (experiment) group\n",
    "avg_pageviews_experiment = combined_data[combined_data[\"Group\"] == \"Experiment\"][\n",
    "    \"Pageviews\"\n",
    "].mean()\n",
    "\n",
    "print(f\"Average pageviews for control group: {round(avg_pageviews_control, 4)}\")\n",
    "print(f\"Average pageviews for experiment group: {round(avg_pageviews_experiment, 4)}\")"
   ]
  },
  {
   "cell_type": "markdown",
   "metadata": {},
   "source": [
    ">Based on the calculation result, the average number of pageviews for the treated group and for the control group look similar.\n"
   ]
  },
  {
   "attachments": {},
   "cell_type": "markdown",
   "metadata": {},
   "source": [
    "### Exercise 7\n",
    "\n",
    "\"Similar\" is a tricky concept -- obviously, we expect *some* differences across groups since users were *randomly* divided across treatment arms. The question is whether the differences between groups are larger than we'd expect to emerge given our random assignment process. To evaluate this, let's use a `ttest` to test the statistical significance of the differences we see. \n",
    "\n",
    "**Note**: Remember that scipy functions don't accept `pandas` objects, so you use a scipy function, you have to pass the numpy vectors underlying your data with the `.values` operator (e.g. `df.my_column.values`). \n",
    "\n",
    "Does the difference in `pageviews` look statistically significant?\n",
    "\n",
    "Store the resulting p-value in `ex7_ttest_pvalue` **rounded to four decimal places.**"
   ]
  },
  {
   "cell_type": "code",
   "execution_count": 14,
   "metadata": {},
   "outputs": [
    {
     "name": "stdout",
     "output_type": "stream",
     "text": [
      "t-test p-value for Pageviews: 0.8877\n"
     ]
    }
   ],
   "source": [
    "from scipy.stats import ttest_ind\n",
    "import numpy as np\n",
    "\n",
    "# extract pageviews as numpy arrays for both groups\n",
    "pageviews_control = combined_data[combined_data[\"Group\"] == \"Control\"][\n",
    "    \"Pageviews\"\n",
    "].values\n",
    "pageviews_experiment = combined_data[combined_data[\"Group\"] == \"Experiment\"][\n",
    "    \"Pageviews\"\n",
    "].values\n",
    "\n",
    "# perform the t-test on the numpy vectors\n",
    "ttest_result = ttest_ind(pageviews_control, pageviews_experiment)\n",
    "\n",
    "# extract the p-value and round it to four decimal places\n",
    "ex7_ttest_pvalue = round(ttest_result.pvalue, 4)\n",
    "results[\"ex7_ttest_pvalue\"] = ex7_ttest_pvalue\n",
    "\n",
    "print(f\"t-test p-value for Pageviews: {ex7_ttest_pvalue}\")"
   ]
  },
  {
   "cell_type": "code",
   "execution_count": 15,
   "metadata": {},
   "outputs": [
    {
     "data": {
      "text/plain": [
       "{'ex4_avg_oec': 0.0941,\n",
       " 'ex5_avg_guardrail': 0.0822,\n",
       " 'ex7_ttest_pvalue': 0.8877}"
      ]
     },
     "execution_count": 15,
     "metadata": {},
     "output_type": "execute_result"
    }
   ],
   "source": [
    "results"
   ]
  },
  {
   "attachments": {},
   "cell_type": "markdown",
   "metadata": {},
   "source": [
    "### Exercise 8\n",
    "\n",
    "`Pageviews` is not the only \"pre-treatment\" variable in this data we can use to evaluate balance/use as a guardrail metric. What other measure is pre-treatment? Review the description of the experiment if you're not sure."
   ]
  },
  {
   "cell_type": "markdown",
   "metadata": {},
   "source": [
    ">The other pre-treatment variable in this data, alongside ``Pageviews``, is ``Clicks``. This variable represents the number of users who clicked to start a free trial, and it's considered pre-treatment because the action of clicking occurs before users are exposed to any experiment-related differences. It helps verify the experiment's randomization by showing whether user engagement before the treatment was evenly distributed across both groups."
   ]
  },
  {
   "attachments": {},
   "cell_type": "markdown",
   "metadata": {},
   "source": [
    "### Exercise 9\n",
    "\n",
    "Check if the other pre-treatment variable is also balanced. Store the p-value of your test of difference in `results` under the key `\"ex9_ttest_pvalue_clicks\"` **rounded to four decimal places.**"
   ]
  },
  {
   "cell_type": "code",
   "execution_count": 16,
   "metadata": {},
   "outputs": [
    {
     "name": "stdout",
     "output_type": "stream",
     "text": [
      "t-test p-value for Clicks: 0.9264\n"
     ]
    }
   ],
   "source": [
    "# same code structure with ex7\n",
    "clicks_control = combined_data[combined_data[\"Group\"] == \"Control\"][\"Clicks\"].values\n",
    "clicks_experiment = combined_data[combined_data[\"Group\"] == \"Experiment\"][\n",
    "    \"Clicks\"\n",
    "].values\n",
    "\n",
    "ttest_result_clicks = ttest_ind(clicks_control, clicks_experiment)\n",
    "\n",
    "ex9_ttest_pvalue_clicks = round(ttest_result_clicks.pvalue, 4)\n",
    "\n",
    "results[\"ex9_ttest_pvalue_clicks\"] = ex9_ttest_pvalue_clicks\n",
    "\n",
    "print(f\"t-test p-value for Clicks: {ex9_ttest_pvalue_clicks}\")"
   ]
  },
  {
   "cell_type": "code",
   "execution_count": 17,
   "metadata": {},
   "outputs": [
    {
     "data": {
      "text/plain": [
       "{'ex4_avg_oec': 0.0941,\n",
       " 'ex5_avg_guardrail': 0.0822,\n",
       " 'ex7_ttest_pvalue': 0.8877,\n",
       " 'ex9_ttest_pvalue_clicks': 0.9264}"
      ]
     },
     "execution_count": 17,
     "metadata": {},
     "output_type": "execute_result"
    }
   ],
   "source": [
    "results"
   ]
  },
  {
   "attachments": {},
   "cell_type": "markdown",
   "metadata": {},
   "source": [
    "## Estimating the Effect of Experiment\n",
    "\n",
    "### Exercise 10\n",
    "\n",
    "Now that we've validated our randomization, our next task is to estimate our treatment effect. First, though, there's an issue with your data you've been able to largely ignore until now, but which you should get a grip on before estimating your treatment effect — can you tell what it is and what you should do about it?\n",
    "\n",
    "Store the number of observations in your data *after* you've addressed this in `ex10_num_obs` (this is mostly meant as a way to sanity check your answer with autograder)."
   ]
  },
  {
   "cell_type": "code",
   "execution_count": 18,
   "metadata": {},
   "outputs": [
    {
     "name": "stdout",
     "output_type": "stream",
     "text": [
      "Number of observations after addressing missing values: 46\n"
     ]
    }
   ],
   "source": [
    "# dealing with missing values\n",
    "\n",
    "# filter the combined data to exclude rows with missing values in 'Enrollments' or 'Payments'\n",
    "filtered_data = combined_data.dropna(subset=[\"Enrollments\", \"Payments\"])\n",
    "\n",
    "\n",
    "ex10_num_obs = len(filtered_data)\n",
    "results[\"ex10_num_obs\"] = ex10_num_obs\n",
    "\n",
    "print(f\"Number of observations after addressing missing values: {ex10_num_obs}\")"
   ]
  },
  {
   "cell_type": "code",
   "execution_count": 19,
   "metadata": {},
   "outputs": [
    {
     "data": {
      "text/plain": [
       "{'ex4_avg_oec': 0.0941,\n",
       " 'ex5_avg_guardrail': 0.0822,\n",
       " 'ex7_ttest_pvalue': 0.8877,\n",
       " 'ex9_ttest_pvalue_clicks': 0.9264,\n",
       " 'ex10_num_obs': 46}"
      ]
     },
     "execution_count": 19,
     "metadata": {},
     "output_type": "execute_result"
    }
   ],
   "source": [
    "results"
   ]
  },
  {
   "cell_type": "markdown",
   "metadata": {},
   "source": [
    "\n",
    "### Exercise 11\n",
    "\n",
    "Now that we've established we have good balance (meaning we think randomization was likely successful), we can evaluate the effects of the experiment. Test whether the OEC and the metric you *don't* want affected have different average values in the control group and treatment group. \n",
    "\n",
    "Because we've randomized, this is a consistent estimate of the Average Treatment Effect of Udacity's website change.\n",
    "\n",
    "Calculate the difference in means in your OEC and guardrail metrics using a simple t-test. Store the resulting effect estimates in `ex11_oec_ate` and `ex11_guard_ate` and p-values in `ex11_oec_pvalue` and `ex11_guard_pvalue`. **Please round all answers to 4 decimal places.** Report your ATE in *percentage points*, where `1` denotes 1 percentage point.\n"
   ]
  },
  {
   "cell_type": "code",
   "execution_count": 34,
   "metadata": {},
   "outputs": [
    {
     "name": "stdout",
     "output_type": "stream",
     "text": [
      "The Average Treatment Effect (ATE) on the OEC, expressed in percentage points is: 1.5888\n",
      "The ATE on the guardrail metric, in percentage points, is: 0.4897\n",
      "The p-value for the difference in OEC between groups is: 0.1319\n",
      "The p-value for the guardrail metric difference is: 0.5928\n"
     ]
    }
   ],
   "source": [
    "# calculate the OEC for both control and experiment groups\n",
    "filtered_data[\"OEC\"] = (\n",
    "    filtered_data[\"Enrollments\"] - filtered_data[\"Payments\"]\n",
    ") / filtered_data[\"Clicks\"]\n",
    "\n",
    "# for the guardrail metric, we'll use the Clicks/Pageviews ratio to assess\n",
    "# user engagement without leading directly to enrollments or payments\n",
    "filtered_data[\"guardrail_metric\"] = filtered_data[\"Payments\"] / filtered_data[\"Clicks\"]\n",
    "\n",
    "# separate control and experiment groups for both metrics\n",
    "control_oec = filtered_data[filtered_data[\"Group\"] == \"Control\"][\"OEC\"]\n",
    "experiment_oec = filtered_data[filtered_data[\"Group\"] == \"Experiment\"][\"OEC\"]\n",
    "control_guardrail = filtered_data[filtered_data[\"Group\"] == \"Control\"][\n",
    "    \"guardrail_metric\"\n",
    "]\n",
    "experiment_guardrail = filtered_data[filtered_data[\"Group\"] == \"Experiment\"][\n",
    "    \"guardrail_metric\"\n",
    "]\n",
    "\n",
    "# t-tests\n",
    "ttest_result_oec = ttest_ind(experiment_oec, control_oec)\n",
    "ttest_result_guardrail = ttest_ind(experiment_guardrail, control_guardrail)\n",
    "\n",
    "# calculate ATE (Average Treatment Effect) for OEC and guardrail metrics\n",
    "# and convert to percentage points\n",
    "ex11_oec_ate = (control_oec.mean() - experiment_oec.mean()) * 100\n",
    "ex11_guard_ate = (control_guardrail.mean() - experiment_guardrail.mean()) * 100\n",
    "\n",
    "\n",
    "ex11_oec_ate = round(ex11_oec_ate, 4)\n",
    "results[\"ex11_oec_ate\"] = ex11_oec_ate\n",
    "\n",
    "ex11_guard_ate = round(ex11_guard_ate, 4)\n",
    "results[\"ex11_guard_ate\"] = ex11_guard_ate\n",
    "\n",
    "ex11_oec_pvalue = round(ttest_result_oec.pvalue, 4)\n",
    "results[\"ex11_oec_pvalue\"] = ex11_oec_pvalue\n",
    "\n",
    "ex11_guard_pvalue = round(ttest_result_guardrail.pvalue, 4)\n",
    "results[\"ex11_guard_pvalue\"] = ex11_guard_pvalue\n",
    "\n",
    "\n",
    "print(\n",
    "    \"The Average Treatment Effect (ATE) on the OEC, expressed in \"\n",
    "    f\"percentage points is: {results['ex11_oec_ate']}\"\n",
    ")\n",
    "\n",
    "print(\n",
    "    f\"The ATE on the guardrail metric, in percentage points, is: {results['ex11_guard_ate']}\"\n",
    ")\n",
    "\n",
    "print(\n",
    "    \"The p-value for the difference in OEC between groups is: \"\n",
    "    f\"{results['ex11_oec_pvalue']}\"\n",
    ")\n",
    "print(\n",
    "    f\"The p-value for the guardrail metric difference is: {results['ex11_guard_pvalue']}\"\n",
    ")"
   ]
  },
  {
   "cell_type": "markdown",
   "metadata": {},
   "source": [
    "### Exercise 12\n",
    "\n",
    "Do you feel that Udacity achieved their goal? Did their intervention cause them any problems? If they asked you \"What would happen if we rolled this out to everyone?\" what would you say?\n",
    "\n",
    "As you answer this question, a small additional question: up until this point you've (presumably) been reporting the default p-values from the tools you are using. These, as you may recall from stats 101, are two-tailed p-values. Do those seem appropriate for your OEC?"
   ]
  },
  {
   "cell_type": "markdown",
   "metadata": {},
   "source": [
    ">The results from the experiment indicate that while the intervention potentially improved the payment rate per click (a positive sign), it did not significantly enhance the overall evaluation criterion (OEC), which was Udacity's main goal. The good news is, there were no significant negative impacts on user engagement (guardrail metrics), suggesting that the changes didn't harm user experience. Despite the promising increase in payment rate, the lack of a significant improvement in the OEC suggests caution before a full rollout. The experiment's outcomes reveal mixed results: it's beneficial in one aspect but falls short in the primary objective. If Udacity were to ask about rolling this out to everyone, the advice would be to proceed with caution, possibly consider further optimizations or investigations to understand the discrepancy between the improved payment rate and the unchanged OEC. Essentially, the intervention shows potential, but further work is needed to fully achieve Udacity's goals without unintended consequences."
   ]
  },
  {
   "attachments": {},
   "cell_type": "markdown",
   "metadata": {},
   "source": [
    "### Exercise 13\n",
    "\n",
    "One of the magic things about experiments is that all you have to do is compare averages to get an average treatment effect. However, you *can* do other things to try and increase the statistical power of your experiments, like add controls in a linear regression model. \n",
    "\n",
    "As you likely know, a bivariate regression is exactly equivalent to a t-test, so let's start by re-estimating the effect of treatment on your OEC using a linear regression. Can you replicate the results from your t-test? They shouldn't just be close—they should be numerically equivalent (i.e. exactly the same to the limits of floating point number precision). "
   ]
  },
  {
   "cell_type": "code",
   "execution_count": 36,
   "metadata": {},
   "outputs": [
    {
     "data": {
      "text/html": [
       "<table class=\"simpletable\">\n",
       "<caption>OLS Regression Results</caption>\n",
       "<tr>\n",
       "  <th>Dep. Variable:</th>           <td>OEC</td>       <th>  R-squared:         </th> <td>   0.051</td>\n",
       "</tr>\n",
       "<tr>\n",
       "  <th>Model:</th>                   <td>OLS</td>       <th>  Adj. R-squared:    </th> <td>   0.029</td>\n",
       "</tr>\n",
       "<tr>\n",
       "  <th>Method:</th>             <td>Least Squares</td>  <th>  F-statistic:       </th> <td>   2.356</td>\n",
       "</tr>\n",
       "<tr>\n",
       "  <th>Date:</th>             <td>Mon, 18 Mar 2024</td> <th>  Prob (F-statistic):</th>  <td> 0.132</td> \n",
       "</tr>\n",
       "<tr>\n",
       "  <th>Time:</th>                 <td>22:31:02</td>     <th>  Log-Likelihood:    </th> <td>  89.832</td>\n",
       "</tr>\n",
       "<tr>\n",
       "  <th>No. Observations:</th>      <td>    46</td>      <th>  AIC:               </th> <td>  -175.7</td>\n",
       "</tr>\n",
       "<tr>\n",
       "  <th>Df Residuals:</th>          <td>    44</td>      <th>  BIC:               </th> <td>  -172.0</td>\n",
       "</tr>\n",
       "<tr>\n",
       "  <th>Df Model:</th>              <td>     1</td>      <th>                     </th>     <td> </td>   \n",
       "</tr>\n",
       "<tr>\n",
       "  <th>Covariance Type:</th>      <td>nonrobust</td>    <th>                     </th>     <td> </td>   \n",
       "</tr>\n",
       "</table>\n",
       "<table class=\"simpletable\">\n",
       "<tr>\n",
       "      <td></td>         <th>coef</th>     <th>std err</th>      <th>t</th>      <th>P>|t|</th>  <th>[0.025</th>    <th>0.975]</th>  \n",
       "</tr>\n",
       "<tr>\n",
       "  <th>const</th>     <td>    0.1021</td> <td>    0.007</td> <td>   13.948</td> <td> 0.000</td> <td>    0.087</td> <td>    0.117</td>\n",
       "</tr>\n",
       "<tr>\n",
       "  <th>treatment</th> <td>   -0.0159</td> <td>    0.010</td> <td>   -1.535</td> <td> 0.132</td> <td>   -0.037</td> <td>    0.005</td>\n",
       "</tr>\n",
       "</table>\n",
       "<table class=\"simpletable\">\n",
       "<tr>\n",
       "  <th>Omnibus:</th>       <td>14.160</td> <th>  Durbin-Watson:     </th> <td>   1.908</td>\n",
       "</tr>\n",
       "<tr>\n",
       "  <th>Prob(Omnibus):</th> <td> 0.001</td> <th>  Jarque-Bera (JB):  </th> <td>  15.205</td>\n",
       "</tr>\n",
       "<tr>\n",
       "  <th>Skew:</th>          <td> 1.227</td> <th>  Prob(JB):          </th> <td>0.000499</td>\n",
       "</tr>\n",
       "<tr>\n",
       "  <th>Kurtosis:</th>      <td> 4.383</td> <th>  Cond. No.          </th> <td>    2.62</td>\n",
       "</tr>\n",
       "</table><br/><br/>Notes:<br/>[1] Standard Errors assume that the covariance matrix of the errors is correctly specified."
      ],
      "text/latex": [
       "\\begin{center}\n",
       "\\begin{tabular}{lclc}\n",
       "\\toprule\n",
       "\\textbf{Dep. Variable:}    &       OEC        & \\textbf{  R-squared:         } &     0.051   \\\\\n",
       "\\textbf{Model:}            &       OLS        & \\textbf{  Adj. R-squared:    } &     0.029   \\\\\n",
       "\\textbf{Method:}           &  Least Squares   & \\textbf{  F-statistic:       } &     2.356   \\\\\n",
       "\\textbf{Date:}             & Mon, 18 Mar 2024 & \\textbf{  Prob (F-statistic):} &    0.132    \\\\\n",
       "\\textbf{Time:}             &     22:31:02     & \\textbf{  Log-Likelihood:    } &    89.832   \\\\\n",
       "\\textbf{No. Observations:} &          46      & \\textbf{  AIC:               } &    -175.7   \\\\\n",
       "\\textbf{Df Residuals:}     &          44      & \\textbf{  BIC:               } &    -172.0   \\\\\n",
       "\\textbf{Df Model:}         &           1      & \\textbf{                     } &             \\\\\n",
       "\\textbf{Covariance Type:}  &    nonrobust     & \\textbf{                     } &             \\\\\n",
       "\\bottomrule\n",
       "\\end{tabular}\n",
       "\\begin{tabular}{lcccccc}\n",
       "                   & \\textbf{coef} & \\textbf{std err} & \\textbf{t} & \\textbf{P$> |$t$|$} & \\textbf{[0.025} & \\textbf{0.975]}  \\\\\n",
       "\\midrule\n",
       "\\textbf{const}     &       0.1021  &        0.007     &    13.948  &         0.000        &        0.087    &        0.117     \\\\\n",
       "\\textbf{treatment} &      -0.0159  &        0.010     &    -1.535  &         0.132        &       -0.037    &        0.005     \\\\\n",
       "\\bottomrule\n",
       "\\end{tabular}\n",
       "\\begin{tabular}{lclc}\n",
       "\\textbf{Omnibus:}       & 14.160 & \\textbf{  Durbin-Watson:     } &    1.908  \\\\\n",
       "\\textbf{Prob(Omnibus):} &  0.001 & \\textbf{  Jarque-Bera (JB):  } &   15.205  \\\\\n",
       "\\textbf{Skew:}          &  1.227 & \\textbf{  Prob(JB):          } & 0.000499  \\\\\n",
       "\\textbf{Kurtosis:}      &  4.383 & \\textbf{  Cond. No.          } &     2.62  \\\\\n",
       "\\bottomrule\n",
       "\\end{tabular}\n",
       "%\\caption{OLS Regression Results}\n",
       "\\end{center}\n",
       "\n",
       "Notes: \\newline\n",
       " [1] Standard Errors assume that the covariance matrix of the errors is correctly specified."
      ],
      "text/plain": [
       "<class 'statsmodels.iolib.summary.Summary'>\n",
       "\"\"\"\n",
       "                            OLS Regression Results                            \n",
       "==============================================================================\n",
       "Dep. Variable:                    OEC   R-squared:                       0.051\n",
       "Model:                            OLS   Adj. R-squared:                  0.029\n",
       "Method:                 Least Squares   F-statistic:                     2.356\n",
       "Date:                Mon, 18 Mar 2024   Prob (F-statistic):              0.132\n",
       "Time:                        22:31:02   Log-Likelihood:                 89.832\n",
       "No. Observations:                  46   AIC:                            -175.7\n",
       "Df Residuals:                      44   BIC:                            -172.0\n",
       "Df Model:                           1                                         \n",
       "Covariance Type:            nonrobust                                         \n",
       "==============================================================================\n",
       "                 coef    std err          t      P>|t|      [0.025      0.975]\n",
       "------------------------------------------------------------------------------\n",
       "const          0.1021      0.007     13.948      0.000       0.087       0.117\n",
       "treatment     -0.0159      0.010     -1.535      0.132      -0.037       0.005\n",
       "==============================================================================\n",
       "Omnibus:                       14.160   Durbin-Watson:                   1.908\n",
       "Prob(Omnibus):                  0.001   Jarque-Bera (JB):               15.205\n",
       "Skew:                           1.227   Prob(JB):                     0.000499\n",
       "Kurtosis:                       4.383   Cond. No.                         2.62\n",
       "==============================================================================\n",
       "\n",
       "Notes:\n",
       "[1] Standard Errors assume that the covariance matrix of the errors is correctly specified.\n",
       "\"\"\""
      ]
     },
     "execution_count": 36,
     "metadata": {},
     "output_type": "execute_result"
    }
   ],
   "source": [
    "import statsmodels.api as sm\n",
    "\n",
    "# we need to add a binary variable to represent the treatment group in the regression model\n",
    "\n",
    "\n",
    "# create a binary variable for the treatment group where experiment group is 1, control group is 0\n",
    "filtered_data[\"treatment\"] = filtered_data[\"Group\"].apply(\n",
    "    lambda x: 1 if x == \"Experiment\" else 0\n",
    ")\n",
    "\n",
    "# define the dependent variable (OEC) and independent variable (treatment group)\n",
    "Y = filtered_data[\"OEC\"]\n",
    "X = filtered_data[[\"treatment\"]]\n",
    "X = sm.add_constant(X)  # Adds a constant term to the predictor\n",
    "\n",
    "# fit the linear regression model\n",
    "model = sm.OLS(Y, X).fit()\n",
    "\n",
    "model.summary()"
   ]
  },
  {
   "attachments": {},
   "cell_type": "markdown",
   "metadata": {},
   "source": [
    "### Exercise 14\n",
    "\n",
    "Now add indicator variables for the date of each observation. Do the standard errors on your `treatment` variable change? If so, in what direction?\n",
    "\n",
    "Store your new standard error in `ex14_se_treatment`. Round your answer to 4 decimal places."
   ]
  },
  {
   "attachments": {},
   "cell_type": "markdown",
   "metadata": {},
   "source": [
    "You should have found that your standard errors decreased by about 30\\%—this is why, although just comparing means *works*, if you have additional variables adding them to your analysis can be helpful (all the usual rules for model specification apply — for example, you still want to be careful about overfitting, which one could argue is maybe part of what's happening here). \n",
    "\n",
    "In many other cases, the effect of adding controls is likely to be larger — the date indicators we added to our data are perfectly balanced between treatment and control, so we aren't adding a lot of data to the model by adding them as variables. They're accounting for some day-to-day variation (presumably in the types of people coming to the site), but they aren't controlling for any residual baseline differences the way a control like \"gender\" or \"age\" might (since those kind of individual-level attributes will never be perfectly balanced across treatment and control). "
   ]
  },
  {
   "cell_type": "code",
   "execution_count": 37,
   "metadata": {},
   "outputs": [
    {
     "name": "stdout",
     "output_type": "stream",
     "text": [
      "The new standard error for the treatment variable, after adding date indicators, is: 0.0066\n"
     ]
    }
   ],
   "source": [
    "# convert Date into dummy variables\n",
    "date_dummies = pd.get_dummies(filtered_data[\"Date\"])\n",
    "\n",
    "# combine the treatment variable and date dummies\n",
    "X_with_date = sm.add_constant(\n",
    "    pd.concat([filtered_data[\"treatment\"], date_dummies], axis=1)\n",
    ")\n",
    "\n",
    "# define the dependent variable\n",
    "Y = filtered_data[\"OEC\"]\n",
    "X_with_date = X_with_date.astype(int)\n",
    "\n",
    "\n",
    "# fit the linear regression model with date dummies included\n",
    "model_with_date = sm.OLS(Y, X_with_date).fit()\n",
    "\n",
    "ex14_se_treatment = round(model_with_date.bse[\"treatment\"], 4)\n",
    "results[\"ex14_se_treatment\"] = ex14_se_treatment\n",
    "\n",
    "print(\n",
    "    \"The new standard error for the treatment variable, after adding \"\n",
    "    f\"date indicators, is: {ex14_se_treatment}\"\n",
    ")"
   ]
  },
  {
   "attachments": {},
   "cell_type": "markdown",
   "metadata": {},
   "source": [
    "### Exercise 15\n",
    "\n",
    "Does this result have any impact on the recommendations you would offer Udacity?"
   ]
  },
  {
   "cell_type": "markdown",
   "metadata": {},
   "source": [
    ">The reduction in the standard error to 0.0066 after adding date indicators significantly enhances the precision of our estimate of the treatment's effect on the OEC. This improvement means we can trust the results more, giving Udacity a clearer picture of how their website changes are truly performing. If the treatment effect on the OEC remains not statistically significant even with this enhanced precision, it suggests that the website changes may not have the intended positive impact. However, if this finer analysis reveals a significant effect, it signals a more definitive influence of the changes, whether positive or negative. Therefore, with this increased accuracy, Udacity should re-evaluate the statistical and practical significance of the experiment's outcomes. This sharper analysis could justify moving forward with the website changes if the evidence supports it, or it might caution against a full rollout if the desired improvements in user behavior are not evident. In essence, this result provides Udacity with a more reliable foundation for their decision-making regarding the experiment."
   ]
  },
  {
   "cell_type": "code",
   "execution_count": 40,
   "metadata": {},
   "outputs": [
    {
     "data": {
      "text/plain": [
       "{'ex4_avg_oec': 0.0941,\n",
       " 'ex5_avg_guardrail': 0.1158,\n",
       " 'ex7_ttest_pvalue': 0.8877,\n",
       " 'ex9_ttest_pvalue_clicks': 0.9264,\n",
       " 'ex10_num_obs': 46,\n",
       " 'ex11_oec_ate': 1.5888,\n",
       " 'ex11_guard_ate': 0.4897,\n",
       " 'ex11_oec_pvalue': 0.1319,\n",
       " 'ex11_guard_pvalue': 0.5928,\n",
       " 'ex14_se_treatment': 0.0066}"
      ]
     },
     "execution_count": 40,
     "metadata": {},
     "output_type": "execute_result"
    }
   ],
   "source": [
    "results"
   ]
  },
  {
   "cell_type": "code",
   "execution_count": 38,
   "metadata": {},
   "outputs": [],
   "source": [
    "assert set(results.keys()) == {\n",
    "    \"ex4_avg_oec\",\n",
    "    \"ex5_avg_guardrail\",\n",
    "    \"ex7_ttest_pvalue\",\n",
    "    \"ex9_ttest_pvalue_clicks\",\n",
    "    \"ex10_num_obs\",\n",
    "    \"ex11_guard_ate\",\n",
    "    \"ex11_guard_pvalue\",\n",
    "    \"ex11_oec_ate\",\n",
    "    \"ex11_oec_pvalue\",\n",
    "    \"ex14_se_treatment\",\n",
    "}"
   ]
  }
 ],
 "metadata": {
  "kernelspec": {
   "display_name": "Python 3",
   "language": "python",
   "name": "python3"
  },
  "language_info": {
   "codemirror_mode": {
    "name": "ipython",
    "version": 3
   },
   "file_extension": ".py",
   "mimetype": "text/x-python",
   "name": "python",
   "nbconvert_exporter": "python",
   "pygments_lexer": "ipython3",
   "version": "3.10.13"
  }
 },
 "nbformat": 4,
 "nbformat_minor": 4
}
