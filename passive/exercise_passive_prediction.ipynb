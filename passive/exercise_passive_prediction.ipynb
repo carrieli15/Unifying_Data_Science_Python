{
 "cells": [
  {
   "cell_type": "markdown",
   "metadata": {},
   "source": [
    "# Predicting Mortgage Delinquency Risk\n",
    "\n",
    "**Note: this is a new exercise, so if you find something weird, please bring it to my attention.**\n",
    "\n",
    "You have been hired by a mortgage servicing firm (a company that buys mortgages and then collects mortgage payments from homeowners) to build a model to answer the question: \n",
    "\n",
    "**Given all available information about a newly issued mortgage, what is the likelihood that the mortgage will enter delinquency (the homeowner will be at least 30 days late on a mortgage payment) during the first two years of the mortgage?**\n",
    "\n",
    "The servicer's hope, obviously, is to differentiate between mortgages to try and purchase (those that will be consistently paid) and mortgages they wish to avoid.\n",
    "\n",
    "For this task, you have been given [REAL data on a sample of all US Standard single family home mortgages purchased or insured by Freddie Mac](https://www.freddiemac.com/research/datasets/sf-loanlevel-dataset) in a single calendar year along with payment data from that and two subsequent years."
   ]
  },
  {
   "cell_type": "markdown",
   "metadata": {},
   "source": [
    "\n",
    "## Gradescope Autograding\n",
    "\n",
    "Please follow [all standard guidance](https://www.practicaldatascience.org/html/autograder_guidelines.html) for submitting this assignment to the Gradescope autograder, including storing your solutions in a dictionary called `results` and ensuring your notebook runs from the start to completion without any errors.\n",
    "\n",
    "For this assignment, please name your file `exercise_passive_prediction.ipynb` before uploading.\n",
    "\n",
    "You can check that you have answers for all questions in your `results` dictionary with this code:\n",
    "\n",
    "```python\n",
    "assert set(results.keys()) == {\n",
    "    \"ex2_merge_type\",\n",
    "    \"ex4_num_mortgages\",\n",
    "    \"ex5_num_obs\",\n",
    "    \"ex7_num_mortgages\",\n",
    "    \"ex7_share_delinquent\",\n",
    "    \"ex10_num_obs\",\n",
    "    \"ex12_roc_auc\",\n",
    "    \"ex14_false_negative_rate\",\n",
    "    \"ex16_num_obs\",\n",
    "    \"ex16_share_delinquent\",\n",
    "    \"ex17_false_negative_rate\",\n",
    "}\n",
    "```\n",
    "\n",
    "\n",
    "### Submission Limits\n",
    "\n",
    "Please remember that you are **only allowed FOUR submissions to the autograder.** Your last submission (if you submit 4 or fewer times), or your third submission (if you submit more than 4 times) will determine your grade Submissions that error out will **not** count against this total.\n",
    "\n",
    "That's one more than usual in case there are issues with exercise clarity."
   ]
  },
  {
   "cell_type": "markdown",
   "metadata": {},
   "source": [
    "## Data Cleaning and Organization\n",
    "\n",
    "Data for this exercise can be [found here](https://github.com/nickeubank/MIDS_Data/tree/master/mortgages/2004). This folder includes both the data to be used and documentation, though you can find [supplemental documentation here](https://www.freddiemac.com/research/datasets/sf-loanlevel-dataset).\n",
    "\n",
    "The only difference between this data and the original Freddie Mac sampled data is that I've limited the scope of service data to three calendar years."
   ]
  },
  {
   "cell_type": "markdown",
   "metadata": {},
   "source": [
    "### Exercise 1\n",
    "\n",
    "Begin by loading both: \n",
    "\n",
    "- the mortgage origination file (`sample_orig_2004.txt`). This *should* contain information on all mortgages issued in 2004, along with non-time varying features of these mortgages (the initial amount, the credit score of the applicant, etc.), and \n",
    "- the servicing data (`sample_svcg_2004orig_3years.txt`). This contains monthly records of all recorded payments (or non-payments) for all mortgages issued in 2004 during the calendar years of 2004, 2005, and 2006.\n",
    "\n",
    "So the autograder can see the data, be sure to load it directly from a URL (don't download and load from your own system).\n",
    "\n",
    "Load the data AND ensure your data has column names. You will likely need to reference the documentation to figure out how to do so."
   ]
  },
  {
   "cell_type": "code",
   "execution_count": 1,
   "metadata": {},
   "outputs": [],
   "source": [
    "# Lets add the headers to the data\n",
    "import warnings\n",
    "\n",
    "warnings.filterwarnings(\"ignore\")\n",
    "\n",
    "# Load the data from a URL\n",
    "import pandas as pd\n",
    "import numpy as np\n",
    "\n",
    "pd.set_option(\"mode.copy_on_write\", True)\n",
    "\n",
    "# Set the URL for the data\n",
    "url_orig = \"https://github.com/nickeubank/MIDS_Data/raw/master/mortgages/2004/sample_orig_2004.txt\"\n",
    "url_svcg = \"https://github.com/nickeubank/MIDS_Data/raw/master/mortgages/2004/sample_svcg_2004orig_3years.txt\""
   ]
  },
  {
   "cell_type": "code",
   "execution_count": 2,
   "metadata": {},
   "outputs": [],
   "source": [
    "# Load the head labels for ORIG file\n",
    "# headers_orig = pd.read_excel(\"file_layout.xlsx\", skiprows=1)\n",
    "# Select the second column\n",
    "# second_column = headers_orig.iloc[:, 1]\n",
    "# Convert the second column to a list\n",
    "# head_labels_orig = second_column.tolist()\n",
    "# print(head_labels_orig)\n",
    "\n",
    "# Load the head labels for SVCG file\n",
    "# head_svcg = pd.read_excel(\n",
    "#    \"file_layout.xlsx\", skiprows=1, sheet_name=\"Monthly Performance Data File\"\n",
    "# )\n",
    "# second_column_svcg = head_svcg.iloc[:, 1]\n",
    "# head_labels_svcg = second_column_svcg.tolist()\n",
    "# print(head_labels_svcg)"
   ]
  },
  {
   "cell_type": "code",
   "execution_count": 3,
   "metadata": {},
   "outputs": [],
   "source": [
    "head_labels_orig = [\n",
    "    \"Credit Score\",\n",
    "    \"First Payment Date\",\n",
    "    \"First Time Homebuyer Flag\",\n",
    "    \"Maturity Date\",\n",
    "    \"Metropolitan Statistical Area (MSA) Or Metropolitan Division\",\n",
    "    \"Mortgage Insurance Percentage (MI %)\",\n",
    "    \"Number of Units\",\n",
    "    \"Occupancy Status\",\n",
    "    \"Original Combined Loan-to-Value (CLTV)\",\n",
    "    \"Original Debt-to-Income (DTI) Ratio\",\n",
    "    \"Original UPB\",\n",
    "    \"Original Loan-to-Value (LTV)\",\n",
    "    \"Original Interest Rate\",\n",
    "    \"Channel\",\n",
    "    \"Prepayment Penalty Mortgage (PPM) Flag\",\n",
    "    \"Amortization Type (Formerly Product Type)\",\n",
    "    \"Property State\",\n",
    "    \"Property Type\",\n",
    "    \"Postal Code\",\n",
    "    \"Loan Sequence Number\",\n",
    "    \"Loan Purpose\",\n",
    "    \"Original Loan Term\",\n",
    "    \"Number of Borrowers\",\n",
    "    \"Seller Name\",\n",
    "    \"Servicer Name\",\n",
    "    \"Super Conforming Flag\",\n",
    "    \"Pre-HARP Loan Sequence Number\",\n",
    "    \"Program Indicator\",\n",
    "    \"HARP Indicator\",\n",
    "    \"Property Valuation Method\",\n",
    "    \"Interest Only (I/O) Indicator\",\n",
    "    \"Mortgage Insurance Cancellation Indicator\",\n",
    "]\n",
    "\n",
    "head_labels_svcg = [\n",
    "    \"Loan Sequence Number\",\n",
    "    \"Monthly Reporting Period\",\n",
    "    \"Current Actual UPB\",\n",
    "    \"Current Loan Delinquency Status\",\n",
    "    \"Loan Age\",\n",
    "    \"Remaining Months to Legal Maturity\",\n",
    "    \"Defect Settlement Date\",\n",
    "    \"Modification Flag\",\n",
    "    \"Zero Balance Code\",\n",
    "    \"Zero Balance Effective Date\",\n",
    "    \"Current Interest Rate\",\n",
    "    \"Current Deferred UPB\",\n",
    "    \"Due Date of Last Paid Installment (DDLPI)\",\n",
    "    \"MI Recoveries\",\n",
    "    \"Net Sales Proceeds\",\n",
    "    \"Non MI Recoveries\",\n",
    "    \"Expenses\",\n",
    "    \"Legal Costs\",\n",
    "    \"Maintenance and Preservation Costs\",\n",
    "    \"Taxes and Insurance\",\n",
    "    \"Miscellaneous Expenses\",\n",
    "    \"Actual Loss Calculation\",\n",
    "    \"Modification Cost\",\n",
    "    \"Step Modification Flag\",\n",
    "    \"Deferred Payment Plan\",\n",
    "    \"Estimated Loan-to-Value (ELTV)\",\n",
    "    \"Zero Balance Removal UPB\",\n",
    "    \"Delinquent Accrued Interest\",\n",
    "    \"Delinquency Due to Disaster\",\n",
    "    \"Borrower Assistance Status Code\",\n",
    "    \"Current Month Modification Cost\",\n",
    "    \"Interest Bearing UPB\",\n",
    "]"
   ]
  },
  {
   "cell_type": "code",
   "execution_count": 4,
   "metadata": {},
   "outputs": [],
   "source": [
    "# Lets add the headers to the data\n",
    "import warnings\n",
    "\n",
    "warnings.filterwarnings(\"ignore\")\n",
    "\n",
    "data_orig = pd.read_csv(url_orig, sep=\"|\", header=None, names=head_labels_orig)\n",
    "data_svcg = pd.read_csv(url_svcg, sep=\"|\", header=None, names=head_labels_svcg)"
   ]
  },
  {
   "cell_type": "markdown",
   "metadata": {},
   "source": [
    "### Exercise 2\n",
    "\n",
    "What is the unit of observation in `sample_orig_2004.txt` and in `sample_svcg_2004orig_3years.txt`?"
   ]
  },
  {
   "cell_type": "markdown",
   "metadata": {},
   "source": [
    "The unit of observation in `sample_orig_2004.txt` is a single family loan and the unit of observation in `sample_svcg_2004orig_3years.txt` is the monthly performance of each loan in the origination data file."
   ]
  },
  {
   "cell_type": "markdown",
   "metadata": {},
   "source": [
    "### Exercise 3\n",
    "\n",
    "Merge your two datasets. Be sure to use the `validate` keyword argument in `merge`.\n",
    "\n",
    "Assuming that you list the data associated with `sample_orig_2004.txt` first and `sample_svcg_2004orig_3years.txt` second, what keyword are you passing to `validate`? Store your answer as a string (use one of: `\"1:1\"`, `\"m:1\"`, `\"1:m\"`, `\"m:m\"`) in a dictionary called `results` under the key `ex2_merge_type`."
   ]
  },
  {
   "cell_type": "code",
   "execution_count": 5,
   "metadata": {},
   "outputs": [
    {
     "name": "stdout",
     "output_type": "stream",
     "text": [
      "We are passing validate as 1:m to check if the data is consistent\n"
     ]
    }
   ],
   "source": [
    "# Lets merge our data by the Loan Sequence Number using validate to check if the data is consistent\n",
    "results = {}\n",
    "validate_as = \"1:m\"\n",
    "\n",
    "results[\"ex2_merge_type\"] = validate_as\n",
    "\n",
    "data_merged = pd.merge(\n",
    "    data_orig, data_svcg, on=\"Loan Sequence Number\", how=\"inner\", validate=\"one_to_many\"\n",
    ")\n",
    "\n",
    "print(f\"We are passing validate as {validate_as} to check if the data is consistent\")"
   ]
  },
  {
   "cell_type": "markdown",
   "metadata": {},
   "source": [
    "### Exercise 4\n",
    "\n",
    "Mortgages come in many shapes and flavors, however your servicer is only interested in predicting default for the more standard form of mortgage. Subset your data to only include:\n",
    "\n",
    "- Mortgages taken out for purchase of a property,\n",
    "- With first payments due in the quarter of origination or the first quarter after origination.\n",
    "\n",
    "(In a perfect world we would just limit our analysis to mortgages where the first payment is due the month after origination. Unfortunately we only know the *quarter* of origination, so the only way to subset for relatively vanilla mortgages is to look for mortgages where the first payment was due in the same quarter or the quarter after origination.)\n",
    "\n",
    "Subset for these mortgages. How many unique mortgages remain in the data? \n",
    "\n",
    "Hint: You may need to read the documentation for the `Loan Sequence Number` variable.\n",
    "\n",
    "Store the resulting number of unique mortgages in `results` under the key `ex4_num_mortgages`."
   ]
  },
  {
   "cell_type": "code",
   "execution_count": 6,
   "metadata": {},
   "outputs": [
    {
     "name": "stdout",
     "output_type": "stream",
     "text": [
      "We have 17504 unique Loan Sequence Numbers\n"
     ]
    }
   ],
   "source": [
    "# Lets subset our data by Loan Purpose = P\n",
    "data_merged_purchase = data_merged[data_merged[\"Loan Purpose\"] == \"P\"]\n",
    "\n",
    "# Lets create a new column with the first 4 characters of the Loan Sequence Number\n",
    "data_merged_purchase[\"LoanSequenceNumber_Date\"] = data_merged_purchase[\n",
    "    \"Loan Sequence Number\"\n",
    "].str[1:5]\n",
    "\n",
    "# Lets extract the last 4 numbers from First Payment Date\n",
    "data_merged_purchase[\"FirstPaymentDate_Date\"] = (\n",
    "    data_merged_purchase[\"First Payment Date\"].astype(str).str[-4:]\n",
    ")\n",
    "\n",
    "\n",
    "# Modify the FirstPaymentDate_Date to put Q1 when found 01,02,03 in the last 2 digits\n",
    "def quarter_mapper(month):\n",
    "    if month in [\"01\", \"02\", \"03\"]:\n",
    "        return \"Q1\"\n",
    "    elif month in [\"04\", \"05\", \"06\"]:\n",
    "        return \"Q2\"\n",
    "    elif month in [\"07\", \"08\", \"09\"]:\n",
    "        return \"Q3\"\n",
    "    else:\n",
    "        return \"Q4\"\n",
    "\n",
    "\n",
    "data_merged_purchase[\"FirstPaymentDate_Date_Quarters\"] = data_merged_purchase[\n",
    "    \"FirstPaymentDate_Date\"\n",
    "].apply(lambda x: x[:2] + quarter_mapper(x[-2:]))\n",
    "\n",
    "\n",
    "# Create a new column adding 1 to the last digit of the LoanSequenceNumber_Date\n",
    "def add_one_to_last_digit(x):\n",
    "    if x[-1].isdigit():\n",
    "        if x[-1] == \"4\":\n",
    "            return x[0] + str(int(x[1]) + 1) + x[2:-1] + \"1\"\n",
    "        else:\n",
    "            return x[:-1] + str(int(x[-1]) + 1)\n",
    "    else:\n",
    "        return x\n",
    "\n",
    "\n",
    "data_merged_purchase[\"LoanSequenceNumber_Date_Plus1\"] = data_merged_purchase[\n",
    "    \"LoanSequenceNumber_Date\"\n",
    "].apply(add_one_to_last_digit)\n",
    "\n",
    "# Keep only the columns where FirstPaymentDate_Date_Quarters is equal to LoanSequenceNumber_Date_Plus1 or LoanSequenceNumber_Date\n",
    "data_merged_purchase = data_merged_purchase[\n",
    "    (\n",
    "        data_merged_purchase[\"FirstPaymentDate_Date_Quarters\"]\n",
    "        == data_merged_purchase[\"LoanSequenceNumber_Date_Plus1\"]\n",
    "    )\n",
    "    | (\n",
    "        data_merged_purchase[\"FirstPaymentDate_Date_Quarters\"]\n",
    "        == data_merged_purchase[\"LoanSequenceNumber_Date\"]\n",
    "    )\n",
    "]\n",
    "\n",
    "# Lets see how many unique Loan Sequence Numbers we have\n",
    "unique_loan_sequence_numbers = data_merged_purchase[\"Loan Sequence Number\"].nunique()\n",
    "print(f\"We have {unique_loan_sequence_numbers} unique Loan Sequence Numbers\")\n",
    "\n",
    "results[\"ex4_num_mortgages\"] = unique_loan_sequence_numbers"
   ]
  },
  {
   "cell_type": "markdown",
   "metadata": {},
   "source": [
    "### Exercise 5\n",
    "\n",
    "The servicer wants to predict delinquency during the first 24 payment due dates (you may assume payments are due every month starting with the month the first payment is due). Subset the data to these first 24 (possible) payment due dates.\n",
    "\n",
    "Note that not all loans will have 24 records in the servicing file in the first 24 months as a result of data merging issues on behalf of Freddie Mac. As noted in the Freddie Mac documentation:\n",
    "\n",
    "> For a given loan, each monthly reporting period in the monthly performance data file combines data elements from multiple reporting cycles and systems at Freddie Mac. As such, perceived data anomalies may be a result of timing mismatches between default/delinquency reporting cycles and investor reporting cycles. Examples of some commonly occurring anomalies in the data are included throughout this section. In all cases, the best information available at the time the Dataset is generated, subject to operational constraints, is used.\n",
    "\n",
    "So subset for the first two years of (possible) payments, resulting in *up to* 24 observations per mortgage (but potentially less given the data cleanliness issues).\n",
    "\n",
    "After this subsetting, store the number of remaining observations (not mortgages, observation) in `results` under the key `\"ex5_num_obs\"`."
   ]
  },
  {
   "cell_type": "code",
   "execution_count": 7,
   "metadata": {},
   "outputs": [
    {
     "name": "stdout",
     "output_type": "stream",
     "text": [
      "We have 379461 remaining observations\n"
     ]
    }
   ],
   "source": [
    "import pandas as pd\n",
    "from pandas.tseries.offsets import DateOffset\n",
    "\n",
    "# Add 24 months to the column of First Payment Date\n",
    "data_merged_purchase[\"First Payment Date + 24 months\"] = pd.to_datetime(\n",
    "    data_merged_purchase[\"First Payment Date\"], format=\"%Y%m\"\n",
    ") + DateOffset(months=23)\n",
    "\n",
    "# print(data_merged_purchase[\"First Payment Date + 24 months\"])\n",
    "\n",
    "# Convert the column of Monthly Reporting Period to datetime\n",
    "data_merged_purchase[\"Monthly Reporting Period_Comparison\"] = pd.to_datetime(\n",
    "    data_merged_purchase[\"Monthly Reporting Period\"], format=\"%Y%m\"\n",
    ")\n",
    "\n",
    "# Filter the column of Monthly Reporting Period that are lower than the First Payment Date + 24 months\n",
    "# and greater than or equal to First Payment Date\n",
    "data_merged_purchase = data_merged_purchase[\n",
    "    (\n",
    "        data_merged_purchase[\"Monthly Reporting Period_Comparison\"]\n",
    "        >= pd.to_datetime(data_merged_purchase[\"First Payment Date\"], format=\"%Y%m\")\n",
    "    )\n",
    "    & (\n",
    "        data_merged_purchase[\"Monthly Reporting Period_Comparison\"]\n",
    "        <= data_merged_purchase[\"First Payment Date + 24 months\"]\n",
    "    )\n",
    "]\n",
    "\n",
    "# Remaining observations\n",
    "remaining_observations = data_merged_purchase.shape[0]\n",
    "print(f\"We have {remaining_observations} remaining observations\")\n",
    "\n",
    "results[\"ex5_num_obs\"] = remaining_observations"
   ]
  },
  {
   "cell_type": "markdown",
   "metadata": {},
   "source": [
    "### Exercise 6\n",
    "\n",
    "For each unique mortgage in your dataset, create an indicator variable that takes on a value of 1 if, at any time during this period, the mortgage has been delinquent.\n",
    "\n",
    "Delinquency status is stored in the variable `CURRENT LOAN DELINQUENCY STATUS`, and is coded as:\n",
    "\n",
    "> CURRENT LOAN DELINQUENCY STATUS – A value corresponding to the number of days the borrower is delinquent, based on the due date of last paid installment (“DDLPI”) reported by servicers to Freddie Mac, and is calculated under the Mortgage Bankers Association (MBA) method.\n",
    "If a loan has been acquired by REO, then the Current Loan Delinquency Status will reflect the value corresponding to that status (instead of the value corresponding to the number of days the borrower is delinquent).\n",
    ">\n",
    "> 0 = Current, or less than 30 days delinquent\n",
    "> \n",
    "> 1 = 30-59 days delinquent\n",
    "> \n",
    "> 2=60–89days delinquent\n",
    "> \n",
    "> 3=90–119days delinquent\n",
    "> \n",
    "> And so on...\n",
    "> \n",
    "> RA = REO Acquisition\n"
   ]
  },
  {
   "cell_type": "code",
   "execution_count": 8,
   "metadata": {},
   "outputs": [],
   "source": [
    "# Check the type of the column of Current Loan Delinquency Status\n",
    "# print(data_merged_purchase[\"Current Loan Delinquency Status\"].dtype)\n",
    "\n",
    "# Transform the column of Current Loan Delinquency Status to numeric\n",
    "data_merged_purchase[\"Current Loan Delinquency Status\"] = pd.to_numeric(\n",
    "    data_merged_purchase[\"Current Loan Delinquency Status\"], errors=\"coerce\"\n",
    ")\n",
    "\n",
    "# Create an indicator of 1 if the mortgage is has been delingquent based on the column of Current Loan Delinquency Status\n",
    "data_merged_purchase[\"Delinquent\"] = data_merged_purchase[\n",
    "    \"Current Loan Delinquency Status\"\n",
    "].apply(lambda x: 0 if x == 0 else 1)"
   ]
  },
  {
   "cell_type": "markdown",
   "metadata": {},
   "source": [
    "### Exercise 7\n",
    "\n",
    "At this point, you should be able to drop all servicing variables reported on a monthly basis and just keep information about the original mortgage issuance (and still keep an indicator for whether the mortgage has ever been delinquent).\n",
    "\n",
    "Store the final number of mortgages in your data under `ex7_num_mortgages` and the share (between 0 and 1) of mortgages that have been delinquent under `ex7_share_delinquent`."
   ]
  },
  {
   "cell_type": "code",
   "execution_count": 9,
   "metadata": {},
   "outputs": [],
   "source": [
    "head_labels_svcg_modified = [\n",
    "    \"Monthly Reporting Period\",\n",
    "    \"Current Actual UPB\",\n",
    "    \"Current Loan Delinquency Status\",\n",
    "    \"Loan Age\",\n",
    "    \"Remaining Months to Legal Maturity\",\n",
    "    \"Defect Settlement Date\",\n",
    "    \"Modification Flag\",\n",
    "    \"Zero Balance Code\",\n",
    "    \"Zero Balance Effective Date\",\n",
    "    \"Current Interest Rate\",\n",
    "    \"Current Deferred UPB\",\n",
    "    \"Due Date of Last Paid Installment (DDLPI)\",\n",
    "    \"MI Recoveries\",\n",
    "    \"Net Sales Proceeds\",\n",
    "    \"Non MI Recoveries\",\n",
    "    \"Expenses\",\n",
    "    \"Legal Costs\",\n",
    "    \"Maintenance and Preservation Costs\",\n",
    "    \"Taxes and Insurance\",\n",
    "    \"Miscellaneous Expenses\",\n",
    "    \"Actual Loss Calculation\",\n",
    "    \"Modification Cost\",\n",
    "    \"Step Modification Flag\",\n",
    "    \"Deferred Payment Plan\",\n",
    "    \"Estimated Loan-to-Value (ELTV)\",\n",
    "    \"Zero Balance Removal UPB\",\n",
    "    \"Delinquent Accrued Interest\",\n",
    "    \"Delinquency Due to Disaster\",\n",
    "    \"Borrower Assistance Status Code\",\n",
    "    \"Current Month Modification Cost\",\n",
    "    \"Interest Bearing UPB\",\n",
    "]"
   ]
  },
  {
   "cell_type": "code",
   "execution_count": 10,
   "metadata": {},
   "outputs": [],
   "source": [
    "# Delete all the columns with headers equal to head_labels_svcg\n",
    "data_merged_simplified = data_merged_purchase.drop(columns=head_labels_svcg_modified)"
   ]
  },
  {
   "cell_type": "code",
   "execution_count": 11,
   "metadata": {},
   "outputs": [
    {
     "name": "stdout",
     "output_type": "stream",
     "text": [
      "We have 17471 Loan Sequence Numbers\n",
      "The percentage of Loan Sequence Numbers that at least have one delinquent in the column Delinquent is 7.108923358708717%\n"
     ]
    }
   ],
   "source": [
    "# Delete all the duplicates in the column of Loan Sequence Number but if Delinquent is 1 keep that record\n",
    "data_merged_simplified = data_merged_simplified.sort_values(\n",
    "    \"Delinquent\", ascending=False\n",
    ").drop_duplicates(subset=[\"Loan Sequence Number\"])\n",
    "\n",
    "# Count the number of Loan Sequence Numbers\n",
    "count_loan_sequence_numbers = data_merged_simplified[\"Loan Sequence Number\"].count()\n",
    "print(f\"We have {count_loan_sequence_numbers} Loan Sequence Numbers\")\n",
    "\n",
    "# Count the number of Loan Sequence Numbers that at least have one delinquent in the column Delinquent\n",
    "count_loan_sequence_numbers_delinquent = data_merged_simplified[\n",
    "    data_merged_simplified[\"Delinquent\"] == 1\n",
    "][\"Loan Sequence Number\"].count()\n",
    "\n",
    "# Calculate the percentage of Loan Sequence Numbers that at least have one delinquent in the column Delinquent\n",
    "percentage_loan_sequence_numbers_delinquent = (\n",
    "    count_loan_sequence_numbers_delinquent / count_loan_sequence_numbers\n",
    ") * 100\n",
    "print(\n",
    "    f\"The percentage of Loan Sequence Numbers that at least have one delinquent in the column Delinquent is {percentage_loan_sequence_numbers_delinquent}%\"\n",
    ")\n",
    "\n",
    "results[\"ex7_num_mortgages\"] = count_loan_sequence_numbers\n",
    "results[\"ex7_share_delinquent\"] = percentage_loan_sequence_numbers_delinquent / 100"
   ]
  },
  {
   "cell_type": "markdown",
   "metadata": {},
   "source": [
    "## Modelling Delinquency Risk\n",
    "\n",
    "Your data should now be relatively [tidy](https://vita.had.co.nz/papers/tidy-data.pdf), in the technical sense of the term. And that means it should be relatively straightforward for you to build a model that answers the question \"Given the features of a newly originated mortgage, how likely is the mortgage holder to fall into delinquency within the first two years after origination?\"\n",
    "\n",
    "### Exercise 8\n",
    "\n",
    "First, we need to identify the target for our model useful predictors from the data and do feature engineering.\n",
    "\n",
    "Let's begin with identifying some features that probably *aren't* going to be useful. For example, `\"Metropolitan Statistical Area (MSA) Or Metropolitan Division\"` is probably *not* an appropriate feature to include in this analysis. Can you figure out why? Make sure to show (quantitatively) why not. \n",
    "\n",
    "Hint: should be more than the missing rate.\n",
    "\n",
    "Hint 2: how many observations for a given city do you think you'd need to determine if that city had especially high mortgage delinquency rates?\n",
    "\n",
    "Hint 3: if not all possible values of a variable are present in your training data, what problem might that cause during testing and deployment?\n"
   ]
  },
  {
   "cell_type": "code",
   "execution_count": 12,
   "metadata": {},
   "outputs": [
    {
     "name": "stdout",
     "output_type": "stream",
     "text": [
      "The percentage of empty cells in the column of Metropolitan Statistical Area (MSA) Or Metropolitan Division is 38.06%\n"
     ]
    }
   ],
   "source": [
    "import seaborn as sns\n",
    "import matplotlib.pyplot as plt\n",
    "\n",
    "# Let's first see the percentage of empty cells in the column of Metropolitan Statistical Area (MSA) Or Metropolitan Division\n",
    "empty_cells = (\n",
    "    data_merged_simplified[\n",
    "        \"Metropolitan Statistical Area (MSA) Or Metropolitan Division\"\n",
    "    ]\n",
    "    .isnull()\n",
    "    .sum()\n",
    ")\n",
    "total_cells = data_merged_simplified[\n",
    "    \"Metropolitan Statistical Area (MSA) Or Metropolitan Division\"\n",
    "].count()\n",
    "percentage_empty_cells = round((empty_cells / total_cells) * 100, 2)\n",
    "print(\n",
    "    f\"The percentage of empty cells in the column of Metropolitan Statistical Area (MSA) Or Metropolitan Division is {percentage_empty_cells}%\"\n",
    ")"
   ]
  },
  {
   "cell_type": "code",
   "execution_count": 13,
   "metadata": {},
   "outputs": [
    {
     "data": {
      "image/png": "[encoded data removed]",
      "text/plain": [
       "<Figure size 1000x600 with 1 Axes>"
      ]
     },
     "metadata": {},
     "output_type": "display_data"
    },
    {
     "name": "stdout",
     "output_type": "stream",
     "text": [
      "The number of unique Property State is 54\n"
     ]
    }
   ],
   "source": [
    "import matplotlib.pyplot as plt\n",
    "\n",
    "# Calculate the proportion of missing values vs non-empty values for each \"property state\"\n",
    "data_merged_simplified[\"MSA_isnull\"] = data_merged_simplified[\n",
    "    \"Metropolitan Statistical Area (MSA) Or Metropolitan Division\"\n",
    "].isnull()\n",
    "grouped = (\n",
    "    data_merged_simplified.groupby(\"Property State\")[\"MSA_isnull\"]\n",
    "    .value_counts(normalize=True)\n",
    "    .rename(\"proportion\")\n",
    "    .reset_index()\n",
    ")\n",
    "\n",
    "# Pivot the data for the stacked bar chart\n",
    "pivot_df = grouped.pivot(\n",
    "    index=\"Property State\", columns=\"MSA_isnull\", values=\"proportion\"\n",
    ")\n",
    "\n",
    "# Create a percent stacked bar chart\n",
    "pivot_df.plot(kind=\"bar\", stacked=True, figsize=(10, 6))\n",
    "plt.title(\n",
    "    \"Proportion of missing values vs non-empty values in MSA for each Property State\"\n",
    ")\n",
    "plt.ylabel(\"Proportion\")\n",
    "plt.show()\n",
    "\n",
    "# Count the number of unique Property State\n",
    "unique_property_state = data_merged_simplified[\"Property State\"].nunique()\n",
    "print(f\"The number of unique Property State is {unique_property_state}\")"
   ]
  },
  {
   "cell_type": "markdown",
   "metadata": {},
   "source": [
    "\n",
    "The MSA or Metropolitan Division variable is not suitable for our analysis because to specifically determine a city with high mortgage delinquency rates, ideally, we would need the total number of mortgages for each city with their respective delinquency indicators, and then compare them with the average of the rest of the cities. In this case, as we can see in the graph, we do not have information for all cities because there are states for which we only have null values, and we need to have at least a representative sample of the city data. The major problem this causes us during testing and deployment is that we won't be able to make a good generalization or prediction of the data because we didn't initially provide the model with enough information about the representativeness of the different cities and delinquency rates."
   ]
  },
  {
   "cell_type": "markdown",
   "metadata": {},
   "source": [
    "### Exercise 9\n",
    "\n",
    "For your analysis, include the following variables: \n",
    "\n",
    "```\n",
    "Credit Score\n",
    "First Time Homebuyer Flag\n",
    "Number of Units\n",
    "Mortgage Insurance Percentage (MI %)\n",
    "Occupancy Status\n",
    "Original Debt-to-Income (DTI) Ratio\n",
    "Original UPB\n",
    "Original Loan-to-Value (LTV)\n",
    "Original Interest Rate\n",
    "Channel\n",
    "Prepayment Penalty Mortgage (PPM) Flag\n",
    "Amortization Type (Formerly Product Type)\n",
    "Property State\n",
    "Property Type\n",
    "Original Loan Term\n",
    "Number of Borrowers\n",
    "Interest Only (I/O) Indicator\n",
    "```\n",
    "\n",
    "Be sure to clean these variables. When doing so, please treat missing data as missing (e.g., `np.nan`, not as a distinct category)."
   ]
  },
  {
   "cell_type": "code",
   "execution_count": 14,
   "metadata": {},
   "outputs": [
    {
     "name": "stdout",
     "output_type": "stream",
     "text": [
      "The number of elements in subset_names is 19\n"
     ]
    }
   ],
   "source": [
    "subset_names = [\n",
    "    \"Credit Score\",\n",
    "    \"First Time Homebuyer Flag\",\n",
    "    \"Number of Units\",\n",
    "    \"Mortgage Insurance Percentage (MI %)\",\n",
    "    \"Occupancy Status\",\n",
    "    \"Original Debt-to-Income (DTI) Ratio\",\n",
    "    \"Original UPB\",\n",
    "    \"Original Loan-to-Value (LTV)\",\n",
    "    \"Original Interest Rate\",\n",
    "    \"Channel\",\n",
    "    \"Prepayment Penalty Mortgage (PPM) Flag\",\n",
    "    \"Amortization Type (Formerly Product Type)\",\n",
    "    \"Property State\",\n",
    "    \"Property Type\",\n",
    "    \"Original Loan Term\",\n",
    "    \"Number of Borrowers\",\n",
    "    \"Interest Only (I/O) Indicator\",\n",
    "    \"Loan Sequence Number\",\n",
    "    \"Delinquent\",\n",
    "]\n",
    "\n",
    "# Count the number of element in subset_names\n",
    "number_of_elements = len(subset_names)\n",
    "print(f\"The number of elements in subset_names is {number_of_elements}\")"
   ]
  },
  {
   "cell_type": "code",
   "execution_count": 15,
   "metadata": {},
   "outputs": [
    {
     "name": "stdout",
     "output_type": "stream",
     "text": [
      "The number of columns in the data_subset is 19\n"
     ]
    }
   ],
   "source": [
    "# Let's create a subset of the data with the columns in subset_names\n",
    "data_subset = data_merged_simplified[subset_names]\n",
    "\n",
    "# Verify the number of columns in the data_subset\n",
    "number_of_columns = data_subset.shape[1]\n",
    "print(f\"The number of columns in the data_subset is {number_of_columns}\")"
   ]
  },
  {
   "cell_type": "code",
   "execution_count": 16,
   "metadata": {},
   "outputs": [
    {
     "name": "stdout",
     "output_type": "stream",
     "text": [
      "       Credit Score  Number of Units  Mortgage Insurance Percentage (MI %)  \\\n",
      "count  17471.000000     17471.000000                          17471.000000   \n",
      "mean     750.469292         1.042699                              6.127010   \n",
      "std      446.083481         1.299512                             15.552428   \n",
      "min      300.000000         1.000000                              0.000000   \n",
      "25%      693.000000         1.000000                              0.000000   \n",
      "50%      739.000000         1.000000                              0.000000   \n",
      "75%      772.000000         1.000000                              0.000000   \n",
      "max     9999.000000        99.000000                            999.000000   \n",
      "\n",
      "       Original Debt-to-Income (DTI) Ratio   Original UPB  \\\n",
      "count                         17471.000000   17471.000000   \n",
      "mean                             55.050999  159484.688913   \n",
      "std                             137.999359   79341.177321   \n",
      "min                               1.000000   10000.000000   \n",
      "25%                              27.000000  100000.000000   \n",
      "50%                              35.000000  144000.000000   \n",
      "75%                              44.000000  207000.000000   \n",
      "max                             999.000000  570000.000000   \n",
      "\n",
      "       Original Loan-to-Value (LTV)  Original Interest Rate  \\\n",
      "count                  17471.000000            17471.000000   \n",
      "mean                      75.908133                5.815467   \n",
      "std                       15.973270                0.432392   \n",
      "min                        6.000000                4.000000   \n",
      "25%                       72.000000                5.500000   \n",
      "50%                       80.000000                5.875000   \n",
      "75%                       80.000000                6.125000   \n",
      "max                      100.000000                7.875000   \n",
      "\n",
      "       Original Loan Term  Number of Borrowers    Delinquent  \n",
      "count        17471.000000         17471.000000  17471.000000  \n",
      "mean           332.997768             1.620056      0.071089  \n",
      "std             63.048065             2.011102      0.256981  \n",
      "min            120.000000             1.000000      0.000000  \n",
      "25%            360.000000             1.000000      0.000000  \n",
      "50%            360.000000             2.000000      0.000000  \n",
      "75%            360.000000             2.000000      0.000000  \n",
      "max            360.000000            99.000000      1.000000  \n"
     ]
    }
   ],
   "source": [
    "# Give me a summare of the values in each column of the data_subset\n",
    "summary = data_subset.describe()\n",
    "print(summary)"
   ]
  },
  {
   "cell_type": "code",
   "execution_count": 17,
   "metadata": {},
   "outputs": [
    {
     "name": "stdout",
     "output_type": "stream",
     "text": [
      "Credit Score                                 0\n",
      "First Time Homebuyer Flag                    0\n",
      "Number of Units                              0\n",
      "Mortgage Insurance Percentage (MI %)         0\n",
      "Occupancy Status                             0\n",
      "Original Debt-to-Income (DTI) Ratio          0\n",
      "Original UPB                                 0\n",
      "Original Loan-to-Value (LTV)                 0\n",
      "Original Interest Rate                       0\n",
      "Channel                                      0\n",
      "Prepayment Penalty Mortgage (PPM) Flag       0\n",
      "Amortization Type (Formerly Product Type)    0\n",
      "Property State                               0\n",
      "Property Type                                0\n",
      "Original Loan Term                           0\n",
      "Number of Borrowers                          0\n",
      "Interest Only (I/O) Indicator                0\n",
      "Loan Sequence Number                         0\n",
      "Delinquent                                   0\n",
      "dtype: int64\n"
     ]
    }
   ],
   "source": [
    "# Let's check if the are missing values in any of the columns of the data_subset\n",
    "missing_values = data_subset.isnull().sum()\n",
    "print(missing_values)"
   ]
  },
  {
   "cell_type": "code",
   "execution_count": 18,
   "metadata": {},
   "outputs": [],
   "source": [
    "# Let's convert the missing values to np.nan\n",
    "values_to_replace = {\n",
    "    \"Credit Score\": 9999.000000,\n",
    "    \"Number of Units\": 99.000000,\n",
    "    \"Mortgage Insurance Percentage (MI %)\": 999.000000,\n",
    "    \"Original Debt-to-Income (DTI) Ratio\": 999.000000,\n",
    "    \"Number of Borrowers\": 99.000000,\n",
    "}\n",
    "\n",
    "# Replace the values with np.nan\n",
    "for column, value in values_to_replace.items():\n",
    "    data_subset[column] = data_subset[column].replace(value, np.nan)"
   ]
  },
  {
   "cell_type": "code",
   "execution_count": 19,
   "metadata": {},
   "outputs": [
    {
     "name": "stdout",
     "output_type": "stream",
     "text": [
      "       Credit Score  Number of Units  Mortgage Insurance Percentage (MI %)  \\\n",
      "count  17431.000000     17468.000000                          17469.000000   \n",
      "mean     729.246113         1.025876                              6.013338   \n",
      "std       51.982726         0.201657                             11.358870   \n",
      "min      300.000000         1.000000                              0.000000   \n",
      "25%      693.000000         1.000000                              0.000000   \n",
      "50%      739.000000         1.000000                              0.000000   \n",
      "75%      772.000000         1.000000                              0.000000   \n",
      "max      842.000000         4.000000                             42.000000   \n",
      "\n",
      "       Original Debt-to-Income (DTI) Ratio   Original UPB  \\\n",
      "count                         17108.000000   17471.000000   \n",
      "mean                             35.022153  159484.688913   \n",
      "std                              11.808027   79341.177321   \n",
      "min                               1.000000   10000.000000   \n",
      "25%                              27.000000  100000.000000   \n",
      "50%                              35.000000  144000.000000   \n",
      "75%                              43.000000  207000.000000   \n",
      "max                              65.000000  570000.000000   \n",
      "\n",
      "       Original Loan-to-Value (LTV)  Original Interest Rate  \\\n",
      "count                  17471.000000            17471.000000   \n",
      "mean                      75.908133                5.815467   \n",
      "std                       15.973270                0.432392   \n",
      "min                        6.000000                4.000000   \n",
      "25%                       72.000000                5.500000   \n",
      "50%                       80.000000                5.875000   \n",
      "75%                       80.000000                6.125000   \n",
      "max                      100.000000                7.875000   \n",
      "\n",
      "       Original Loan Term  Number of Borrowers    Delinquent  \n",
      "count        17471.000000         17464.000000  17471.000000  \n",
      "mean           332.997768             1.581024      0.071089  \n",
      "std             63.048065             0.493406      0.256981  \n",
      "min            120.000000             1.000000      0.000000  \n",
      "25%            360.000000             1.000000      0.000000  \n",
      "50%            360.000000             2.000000      0.000000  \n",
      "75%            360.000000             2.000000      0.000000  \n",
      "max            360.000000             2.000000      1.000000  \n"
     ]
    }
   ],
   "source": [
    "# Give me a summare of the values in each column of the data_subset after cleaning\n",
    "summary = data_subset.describe()\n",
    "print(summary)"
   ]
  },
  {
   "cell_type": "markdown",
   "metadata": {},
   "source": [
    "### Exercise 10\n",
    "\n",
    "The next step in our analysis is to convert our categorical variables to one-hot-encodings and use `train_test_split` to split our data.\n",
    "\n",
    "To ensure replicability, **before** you `train_test_split` your data, please sort your data by `Loan Sequence Number`. This will ensure when we split the data with a random seed below, everyone will get the same split and the autograder will function.\n",
    "\n",
    "You may create your one-hot-encodings however you wish, but I'm a fan of the [patsy library's](https://patsy.readthedocs.io/en/latest/overview.html) `dmatrices` function.\n",
    "\n",
    "Hint: You should end up with 8 categorical variables, including some binary flags and `Number_of_Borrowers`, `Number_of_Units` (which you could argue should be continuous, but I think are better treated as categorical).\n",
    "\n",
    "Store the number of observations in your final dataset in `ex10_num_obs`."
   ]
  },
  {
   "cell_type": "code",
   "execution_count": 20,
   "metadata": {},
   "outputs": [
    {
     "name": "stdout",
     "output_type": "stream",
     "text": [
      "The categorical variables are: \n",
      " Index(['First Time Homebuyer Flag', 'Occupancy Status', 'Channel',\n",
      "       'Prepayment Penalty Mortgage (PPM) Flag',\n",
      "       'Amortization Type (Formerly Product Type)', 'Property State',\n",
      "       'Property Type', 'Interest Only (I/O) Indicator'],\n",
      "      dtype='object')\n",
      "\n",
      "Categorical variables: 8\n",
      "\n",
      "The numerical variables are: \n",
      "Index(['Credit Score', 'Number of Units',\n",
      "       'Mortgage Insurance Percentage (MI %)',\n",
      "       'Original Debt-to-Income (DTI) Ratio', 'Original UPB',\n",
      "       'Original Loan-to-Value (LTV)', 'Original Interest Rate',\n",
      "       'Original Loan Term', 'Number of Borrowers', 'Delinquent'],\n",
      "      dtype='object')\n",
      "\n",
      "Numerical variables: 10\n",
      "\n",
      "The number of observation in the data_subset is 17471\n"
     ]
    }
   ],
   "source": [
    "# Let's sort of data by Loan Sequence Number\n",
    "data_subset = data_subset.sort_values(\"Loan Sequence Number\")\n",
    "\n",
    "# Delete the column of Loan Sequence Number\n",
    "data_subset = data_subset.drop(columns=\"Loan Sequence Number\")\n",
    "\n",
    "# Check on the dataset which variables are categorical and which are numerical and how many they are\n",
    "categorical = data_subset.select_dtypes(include=\"object\").columns\n",
    "\n",
    "# Count the number of categorical variables\n",
    "number_of_categorical = len(categorical)\n",
    "numerical = data_subset.select_dtypes(include=[\"float64\", \"int64\"]).columns\n",
    "\n",
    "# Count the number of numerical variables\n",
    "number_of_numerical = len(numerical)\n",
    "\n",
    "print(f\"The categorical variables are: \\n {categorical}\\n\")\n",
    "print(f\"Categorical variables: {number_of_categorical}\\n\")\n",
    "print(f\"The numerical variables are: \\n{numerical}\\n\")\n",
    "print(f\"Numerical variables: {number_of_numerical}\\n\")\n",
    "\n",
    "# Count the number of observation in the data_subset\n",
    "number_of_observation = data_subset.shape[0]\n",
    "print(f\"The number of observation in the data_subset is {number_of_observation}\")"
   ]
  },
  {
   "cell_type": "code",
   "execution_count": 21,
   "metadata": {},
   "outputs": [
    {
     "name": "stdout",
     "output_type": "stream",
     "text": [
      "Shape of X: (17052, 76)\n",
      "Shape of y: (17052, 1)\n",
      "The number of observation in at this point is 17052\n"
     ]
    }
   ],
   "source": [
    "import patsy\n",
    "\n",
    "# Give me the unique values for each of the categorical variables\n",
    "unique_values = {}\n",
    "for column in categorical:\n",
    "    unique_values[column] = data_subset[column].unique()\n",
    "# print(unique_values)\n",
    "\n",
    "# Drop the values in column Property Type = 99 and First Time Homebuyer Flag = 9\n",
    "data_subset = data_subset[\n",
    "    (data_subset[\"Property Type\"] != \"99\")\n",
    "    & (data_subset[\"First Time Homebuyer Flag\"] != \"9\")\n",
    "]\n",
    "# Drop de na values\n",
    "data_subset = data_subset.dropna()\n",
    "\n",
    "formula = 'Q(\"Delinquent\")~-1 +Q(\"Credit Score\") + C(Q(\"First Time Homebuyer Flag\")) + C(Q(\"Number of Units\")) + Q(\"Mortgage Insurance Percentage (MI %)\") + C(Q(\"Occupancy Status\")) + Q(\"Original Debt-to-Income (DTI) Ratio\") + Q(\"Original UPB\") + Q(\"Original Loan-to-Value (LTV)\") + Q(\"Original Interest Rate\") + C(Q(\"Channel\")) + C(Q(\"Prepayment Penalty Mortgage (PPM) Flag\")) + C(Q(\"Amortization Type (Formerly Product Type)\")) + C(Q(\"Property State\")) + C(Q(\"Property Type\")) + Q(\"Original Loan Term\") + C(Q(\"Number of Borrowers\")) + C(Q(\"Interest Only (I/O) Indicator\"))'\n",
    "\n",
    "y, X = patsy.dmatrices(formula, data=data_subset, return_type=\"dataframe\")\n",
    "\n",
    "\n",
    "# Display shapes of X and Y\n",
    "print(\"Shape of X:\", X.shape)\n",
    "print(\"Shape of y:\", y.shape)\n",
    "\n",
    "number_of_observation = X.shape[0]\n",
    "print(f\"The number of observation in at this point is {number_of_observation}\")\n",
    "\n",
    "results[\"ex10_num_obs\"] = number_of_observation"
   ]
  },
  {
   "cell_type": "markdown",
   "metadata": {},
   "source": [
    "### Exercise 11\n",
    "\n",
    "Use `train_test_split` from `sklearn.model_selection` to split the data. \n",
    "\n",
    "Before you do, Use `0.2` as the `test_size` and use `random_state=42`."
   ]
  },
  {
   "cell_type": "code",
   "execution_count": 22,
   "metadata": {},
   "outputs": [],
   "source": [
    "# Train our data with test_size = 0.2 and random_state = 42\n",
    "from sklearn.model_selection import train_test_split\n",
    "\n",
    "X_train, X_test, y_train, y_test = train_test_split(\n",
    "    X, y, test_size=0.2, random_state=42\n",
    ")"
   ]
  },
  {
   "cell_type": "markdown",
   "metadata": {},
   "source": [
    "### Exercise 12\n",
    "\n",
    "Now fit a `GradientBoostingClassifier` to the data (from `sklearn.ensemble`). Set `random_state=42`. using `roc_auc_score`, get your ROC AUC score against the test data. Store in `results` under the key `\"ex12_roc_auc\"`."
   ]
  },
  {
   "cell_type": "code",
   "execution_count": 23,
   "metadata": {},
   "outputs": [
    {
     "name": "stdout",
     "output_type": "stream",
     "text": [
      "The ROC AUC score is 0.708437747622821\n"
     ]
    }
   ],
   "source": [
    "from sklearn.ensemble import GradientBoostingClassifier\n",
    "from sklearn.metrics import roc_auc_score\n",
    "\n",
    "# Initialize the GradientBoostingClassifier\n",
    "clf = GradientBoostingClassifier(random_state=42)\n",
    "\n",
    "# Fit the model to the training data\n",
    "clf.fit(X_train, y_train.values.ravel())\n",
    "\n",
    "# Predict the probabilities of the positive class for the test data\n",
    "y_pred_proba = clf.predict_proba(X_test)[:, 1]\n",
    "\n",
    "# Calculate the ROC AUC score\n",
    "roc_auc = roc_auc_score(y_test, y_pred_proba)\n",
    "\n",
    "# Store the result, round to 4 decimal places\n",
    "results[\"ex12_roc_auc\"] = round(roc_auc, 4)\n",
    "\n",
    "print(f\"The ROC AUC score is {roc_auc}\")"
   ]
  },
  {
   "cell_type": "markdown",
   "metadata": {},
   "source": [
    "### Exercise 13\n",
    "\n",
    "Use the `predict` method to generate a confusion matrix. What problem do you see with the result?"
   ]
  },
  {
   "cell_type": "code",
   "execution_count": 24,
   "metadata": {},
   "outputs": [
    {
     "name": "stdout",
     "output_type": "stream",
     "text": [
      "[[3146    9]\n",
      " [ 252    4]]\n"
     ]
    }
   ],
   "source": [
    "from sklearn.metrics import confusion_matrix\n",
    "\n",
    "# Assume that you have a model 'clf' and test data 'X_test' and 'y_test'\n",
    "y_pred = clf.predict(X_test)\n",
    "\n",
    "# Generate the confusion matrix\n",
    "cm = confusion_matrix(y_test, y_pred)\n",
    "\n",
    "print(cm)"
   ]
  },
  {
   "cell_type": "markdown",
   "metadata": {},
   "source": [
    ">True Negatives(TN): The model accurately predicted 3,146 loans as not going to be delinquent, meaning it correctly identified those that would stay in good standing.False Positives(FP): The model incorrectly flagged 9 loans as potentially delinquent when, in reality, they remained non-delinquent. This means it mistakenly thought these loans would have payment issues, but they didn't. False Negatives (FN): The model missed identifying 252 loans that ended up being delinquent. It predicted these loans would be in good standing, but they weren't, indicating the model overlooked signs of potential delinquency. True Positives(TP): The model correctly identified 4 loans as becoming delinquent, accurately predicting these loans would have payment issues."
   ]
  },
  {
   "cell_type": "markdown",
   "metadata": {},
   "source": [
    "### Exercise 14\n",
    "\n",
    "To address the problem from Exercise 13, use `.predict_proba()` to set your own threshold for classification. Your stakeholder is mostly concerned with False Omission (mortgages classified as safe that actually are not), so use a 8% probability threshold to get a good balance of a low False Omission rate with a reasonable amount of mortgages still being considered \"viable.\"\n",
    "\n",
    "What is the False Negative rate at an 8% classification threshold from the model above?\n",
    "\n",
    "Store the result under the key `\"ex14_false_omission_rate\"`."
   ]
  },
  {
   "cell_type": "code",
   "execution_count": 25,
   "metadata": {},
   "outputs": [
    {
     "name": "stdout",
     "output_type": "stream",
     "text": [
      "The False Negative Rate is 0.04900398406374502\n"
     ]
    }
   ],
   "source": [
    "from sklearn.metrics import confusion_matrix\n",
    "\n",
    "# Generate predicted probabilities\n",
    "y_pred_proba = clf.predict_proba(X_test)[:, 1]\n",
    "\n",
    "# Set a custom threshold for classification\n",
    "threshold = 0.08\n",
    "y_pred_custom = (y_pred_proba > threshold).astype(int)\n",
    "\n",
    "# Generate the confusion matrix\n",
    "tn, fp, fn, tp = confusion_matrix(y_test, y_pred_custom).ravel()\n",
    "\n",
    "# Calculate the False Omission Rate\n",
    "false_negative_rate = fn / (fn + tn)\n",
    "\n",
    "# Store the result\n",
    "results[\"ex14_false_omission_rate\"] = false_negative_rate\n",
    "\n",
    "print(f\"The False Negative Rate is {false_negative_rate}\")"
   ]
  },
  {
   "cell_type": "markdown",
   "metadata": {},
   "source": [
    "### Exercise 15\n",
    "\n",
    "Your stakeholder wants to by as many mortgages as it can while maintaining a delinquency rate of purchased mortgages below 5%. Based on your answer above, do you feel like your model can provide that level of performance?"
   ]
  },
  {
   "cell_type": "markdown",
   "metadata": {},
   "source": [
    ">Given the outcome, with a False Omission Rate at 8% classification threshold of 0.049 (or 4.9%), the model meets the stakeholder's requirement of maintaining a delinquency rate of purchased mortgages below 5%. This suggests that by applying this model with the specified threshold, the stakeholder can confidently purchase mortgages while keeping the risk of delinquency within acceptable bounds, thus achieving the goal of maximizing acquisitions with a controlled level of risk."
   ]
  },
  {
   "cell_type": "markdown",
   "metadata": {},
   "source": [
    "## Now To The Future\n",
    "\n",
    "The preceding analysis is precisely the type of analysis you would do if, in late 2006, you'd been asked to evaluate mortgage performance in the last two years for use going forward. So let's see how your model performs now!\n",
    "\n",
    "In this [folder](https://github.com/nickeubank/MIDS_Data/tree/master/mortgages/2007) you will find data on mortgages originated in 2007 along with servicing data from 2007, 2008, and 2009.\n",
    "\n",
    "### Exercise 16\n",
    "\n",
    "Please load this data (again, from a URL to help the autograder) and clean it in the same manner as before. As a sanity check, how many observations do you have in the final dataset (after you've removed observations with missing values to allow you to generate predicted delinquency rates)? \n",
    "\n",
    "Store the final number of observations in `\"ex16_num_obs\"` and the share of those mortgages that are delinquent in `\"ex16_share_delinquent\"`\n"
   ]
  },
  {
   "cell_type": "code",
   "execution_count": 26,
   "metadata": {},
   "outputs": [],
   "source": [
    "# Set the URL for the data\n",
    "url_orig_2007 = \"https://github.com/nickeubank/MIDS_Data/raw/master/mortgages/2007/sample_orig_2007.txt\"\n",
    "url_svcg_2007 = \"https://github.com/nickeubank/MIDS_Data/raw/master/mortgages/2007/sample_svcg_2007orig_3years.txt\"\n",
    "\n",
    "head_labels_orig = [\n",
    "    \"Credit Score\",\n",
    "    \"First Payment Date\",\n",
    "    \"First Time Homebuyer Flag\",\n",
    "    \"Maturity Date\",\n",
    "    \"Metropolitan Statistical Area (MSA) Or Metropolitan Division\",\n",
    "    \"Mortgage Insurance Percentage (MI %)\",\n",
    "    \"Number of Units\",\n",
    "    \"Occupancy Status\",\n",
    "    \"Original Combined Loan-to-Value (CLTV)\",\n",
    "    \"Original Debt-to-Income (DTI) Ratio\",\n",
    "    \"Original UPB\",\n",
    "    \"Original Loan-to-Value (LTV)\",\n",
    "    \"Original Interest Rate\",\n",
    "    \"Channel\",\n",
    "    \"Prepayment Penalty Mortgage (PPM) Flag\",\n",
    "    \"Amortization Type (Formerly Product Type)\",\n",
    "    \"Property State\",\n",
    "    \"Property Type\",\n",
    "    \"Postal Code\",\n",
    "    \"Loan Sequence Number\",\n",
    "    \"Loan Purpose\",\n",
    "    \"Original Loan Term\",\n",
    "    \"Number of Borrowers\",\n",
    "    \"Seller Name\",\n",
    "    \"Servicer Name\",\n",
    "    \"Super Conforming Flag\",\n",
    "    \"Pre-HARP Loan Sequence Number\",\n",
    "    \"Program Indicator\",\n",
    "    \"HARP Indicator\",\n",
    "    \"Property Valuation Method\",\n",
    "    \"Interest Only (I/O) Indicator\",\n",
    "    \"Mortgage Insurance Cancellation Indicator\",\n",
    "]\n",
    "\n",
    "head_labels_svcg = [\n",
    "    \"Loan Sequence Number\",\n",
    "    \"Monthly Reporting Period\",\n",
    "    \"Current Actual UPB\",\n",
    "    \"Current Loan Delinquency Status\",\n",
    "    \"Loan Age\",\n",
    "    \"Remaining Months to Legal Maturity\",\n",
    "    \"Defect Settlement Date\",\n",
    "    \"Modification Flag\",\n",
    "    \"Zero Balance Code\",\n",
    "    \"Zero Balance Effective Date\",\n",
    "    \"Current Interest Rate\",\n",
    "    \"Current Deferred UPB\",\n",
    "    \"Due Date of Last Paid Installment (DDLPI)\",\n",
    "    \"MI Recoveries\",\n",
    "    \"Net Sales Proceeds\",\n",
    "    \"Non MI Recoveries\",\n",
    "    \"Expenses\",\n",
    "    \"Legal Costs\",\n",
    "    \"Maintenance and Preservation Costs\",\n",
    "    \"Taxes and Insurance\",\n",
    "    \"Miscellaneous Expenses\",\n",
    "    \"Actual Loss Calculation\",\n",
    "    \"Modification Cost\",\n",
    "    \"Step Modification Flag\",\n",
    "    \"Deferred Payment Plan\",\n",
    "    \"Estimated Loan-to-Value (ELTV)\",\n",
    "    \"Zero Balance Removal UPB\",\n",
    "    \"Delinquent Accrued Interest\",\n",
    "    \"Delinquency Due to Disaster\",\n",
    "    \"Borrower Assistance Status Code\",\n",
    "    \"Current Month Modification Cost\",\n",
    "    \"Interest Bearing UPB\",\n",
    "]\n",
    "\n",
    "data_orig_2007 = pd.read_csv(\n",
    "    url_orig_2007, sep=\"|\", header=None, names=head_labels_orig\n",
    ")\n",
    "data_svcg_2007 = pd.read_csv(\n",
    "    url_svcg_2007, sep=\"|\", header=None, names=head_labels_svcg\n",
    ")\n",
    "\n",
    "data_merged_2007 = pd.merge(\n",
    "    data_orig_2007,\n",
    "    data_svcg_2007,\n",
    "    on=\"Loan Sequence Number\",\n",
    "    how=\"inner\",\n",
    "    validate=\"one_to_many\",\n",
    ")\n",
    "\n",
    "\n",
    "# Lets subset our data by Loan Purpose = P\n",
    "data_merged_purchase_2007 = data_merged_2007[data_merged_2007[\"Loan Purpose\"] == \"P\"]\n",
    "\n",
    "# Lets create a new column with the first 4 characters of the Loan Sequence Number\n",
    "data_merged_purchase_2007[\"LoanSequenceNumber_Date\"] = data_merged_purchase_2007[\n",
    "    \"Loan Sequence Number\"\n",
    "].str[1:5]\n",
    "\n",
    "# Lets extract the last 4 numbers from First Payment Date\n",
    "data_merged_purchase_2007[\"FirstPaymentDate_Date\"] = (\n",
    "    data_merged_purchase_2007[\"First Payment Date\"].astype(str).str[-4:]\n",
    ")\n",
    "\n",
    "\n",
    "# Modify the FirstPaymentDate_Date to put Q1 when found 01,02,03 in the last 2 digits\n",
    "def quarter_mapper(month):\n",
    "    if month in [\"01\", \"02\", \"03\"]:\n",
    "        return \"Q1\"\n",
    "    elif month in [\"04\", \"05\", \"06\"]:\n",
    "        return \"Q2\"\n",
    "    elif month in [\"07\", \"08\", \"09\"]:\n",
    "        return \"Q3\"\n",
    "    else:\n",
    "        return \"Q4\"\n",
    "\n",
    "\n",
    "data_merged_purchase_2007[\"FirstPaymentDate_Date_Quarters\"] = data_merged_purchase_2007[\n",
    "    \"FirstPaymentDate_Date\"\n",
    "].apply(lambda x: x[:2] + quarter_mapper(x[-2:]))\n",
    "\n",
    "\n",
    "# Create a new column adding 1 to the last digit of the LoanSequenceNumber_Date\n",
    "def add_one_to_last_digit(x):\n",
    "    if x[-1].isdigit():\n",
    "        if x[-1] == \"4\":\n",
    "            return x[0] + str(int(x[1]) + 1) + x[2:-1] + \"1\"\n",
    "        else:\n",
    "            return x[:-1] + str(int(x[-1]) + 1)\n",
    "    else:\n",
    "        return x\n",
    "\n",
    "\n",
    "data_merged_purchase_2007[\"LoanSequenceNumber_Date_Plus1\"] = data_merged_purchase_2007[\n",
    "    \"LoanSequenceNumber_Date\"\n",
    "].apply(add_one_to_last_digit)\n",
    "\n",
    "# Keep only the columns where FirstPaymentDate_Date_Quarters is equal to LoanSequenceNumber_Date_Plus1 or LoanSequenceNumber_Date\n",
    "data_merged_purchase_2007 = data_merged_purchase_2007[\n",
    "    (\n",
    "        data_merged_purchase_2007[\"FirstPaymentDate_Date_Quarters\"]\n",
    "        == data_merged_purchase_2007[\"LoanSequenceNumber_Date_Plus1\"]\n",
    "    )\n",
    "    | (\n",
    "        data_merged_purchase_2007[\"FirstPaymentDate_Date_Quarters\"]\n",
    "        == data_merged_purchase_2007[\"LoanSequenceNumber_Date\"]\n",
    "    )\n",
    "]\n",
    "\n",
    "# Lets see how many unique Loan Sequence Numbers we have\n",
    "unique_loan_sequence_numbers = data_merged_purchase_2007[\n",
    "    \"Loan Sequence Number\"\n",
    "].nunique()\n",
    "\n",
    "# Add 24 months to the column of First Payment Date\n",
    "data_merged_purchase_2007[\"First Payment Date + 24 months\"] = pd.to_datetime(\n",
    "    data_merged_purchase_2007[\"First Payment Date\"], format=\"%Y%m\"\n",
    ") + DateOffset(months=23)\n",
    "\n",
    "# print(data_merged_purchase[\"First Payment Date + 24 months\"])\n",
    "\n",
    "# Convert the column of Monthly Reporting Period to datetime\n",
    "data_merged_purchase_2007[\"Monthly Reporting Period_Comparison\"] = pd.to_datetime(\n",
    "    data_merged_purchase_2007[\"Monthly Reporting Period\"], format=\"%Y%m\"\n",
    ")\n",
    "\n",
    "# Filter the column of Monthly Reporting Period that are lower than the First Payment Date + 24 months\n",
    "# and greater than or equal to First Payment Date\n",
    "data_merged_purchase_2007 = data_merged_purchase_2007[\n",
    "    (\n",
    "        data_merged_purchase_2007[\"Monthly Reporting Period_Comparison\"]\n",
    "        >= pd.to_datetime(\n",
    "            data_merged_purchase_2007[\"First Payment Date\"], format=\"%Y%m\"\n",
    "        )\n",
    "    )\n",
    "    & (\n",
    "        data_merged_purchase_2007[\"Monthly Reporting Period_Comparison\"]\n",
    "        <= data_merged_purchase_2007[\"First Payment Date + 24 months\"]\n",
    "    )\n",
    "]\n",
    "# Remaining observations\n",
    "remaining_observations = data_merged_purchase_2007.shape[0]\n",
    "\n",
    "\n",
    "# Transform the column of Current Loan Delinquency Status to numeric\n",
    "data_merged_purchase_2007[\"Current Loan Delinquency Status\"] = pd.to_numeric(\n",
    "    data_merged_purchase_2007[\"Current Loan Delinquency Status\"], errors=\"coerce\"\n",
    ")\n",
    "\n",
    "# Create an indicator of 1 if the mortgage is has been delingquent based on the column of Current Loan Delinquency Status\n",
    "data_merged_purchase_2007[\"Delinquent\"] = data_merged_purchase_2007[\n",
    "    \"Current Loan Delinquency Status\"\n",
    "].apply(lambda x: 0 if x == 0 else 1)\n",
    "\n",
    "head_labels_svcg_modified = [\n",
    "    \"Monthly Reporting Period\",\n",
    "    \"Current Actual UPB\",\n",
    "    \"Current Loan Delinquency Status\",\n",
    "    \"Loan Age\",\n",
    "    \"Remaining Months to Legal Maturity\",\n",
    "    \"Defect Settlement Date\",\n",
    "    \"Modification Flag\",\n",
    "    \"Zero Balance Code\",\n",
    "    \"Zero Balance Effective Date\",\n",
    "    \"Current Interest Rate\",\n",
    "    \"Current Deferred UPB\",\n",
    "    \"Due Date of Last Paid Installment (DDLPI)\",\n",
    "    \"MI Recoveries\",\n",
    "    \"Net Sales Proceeds\",\n",
    "    \"Non MI Recoveries\",\n",
    "    \"Expenses\",\n",
    "    \"Legal Costs\",\n",
    "    \"Maintenance and Preservation Costs\",\n",
    "    \"Taxes and Insurance\",\n",
    "    \"Miscellaneous Expenses\",\n",
    "    \"Actual Loss Calculation\",\n",
    "    \"Modification Cost\",\n",
    "    \"Step Modification Flag\",\n",
    "    \"Deferred Payment Plan\",\n",
    "    \"Estimated Loan-to-Value (ELTV)\",\n",
    "    \"Zero Balance Removal UPB\",\n",
    "    \"Delinquent Accrued Interest\",\n",
    "    \"Delinquency Due to Disaster\",\n",
    "    \"Borrower Assistance Status Code\",\n",
    "    \"Current Month Modification Cost\",\n",
    "    \"Interest Bearing UPB\",\n",
    "]\n",
    "\n",
    "\n",
    "# Delete all the columns with headers equal to head_labels_svcg\n",
    "data_merged_simplified_2007 = data_merged_purchase_2007.drop(\n",
    "    columns=head_labels_svcg_modified\n",
    ")\n",
    "\n",
    "# Delete all the duplicates in the column of Loan Sequence Number but if Delinquent is 1 keep that record\n",
    "data_merged_simplified_2007 = data_merged_simplified_2007.sort_values(\n",
    "    \"Delinquent\", ascending=False\n",
    ").drop_duplicates(subset=[\"Loan Sequence Number\"])\n",
    "\n",
    "# Count the number of Loan Sequence Numbers\n",
    "count_loan_sequence_numbers = data_merged_simplified_2007[\n",
    "    \"Loan Sequence Number\"\n",
    "].count()\n",
    "\n",
    "\n",
    "# Count the number of Loan Sequence Numbers that at least have one delinquent in the column Delinquent\n",
    "count_loan_sequence_numbers_delinquent = data_merged_simplified_2007[\n",
    "    data_merged_simplified_2007[\"Delinquent\"] == 1\n",
    "][\"Loan Sequence Number\"].count()\n",
    "\n",
    "# Calculate the percentage of Loan Sequence Numbers that at least have one delinquent in the column Delinquent\n",
    "percentage_loan_sequence_numbers_delinquent = (\n",
    "    count_loan_sequence_numbers_delinquent / count_loan_sequence_numbers\n",
    ") * 100\n",
    "\n",
    "subset_names = [\n",
    "    \"Credit Score\",\n",
    "    \"First Time Homebuyer Flag\",\n",
    "    \"Number of Units\",\n",
    "    \"Mortgage Insurance Percentage (MI %)\",\n",
    "    \"Occupancy Status\",\n",
    "    \"Original Debt-to-Income (DTI) Ratio\",\n",
    "    \"Original UPB\",\n",
    "    \"Original Loan-to-Value (LTV)\",\n",
    "    \"Original Interest Rate\",\n",
    "    \"Channel\",\n",
    "    \"Prepayment Penalty Mortgage (PPM) Flag\",\n",
    "    \"Amortization Type (Formerly Product Type)\",\n",
    "    \"Property State\",\n",
    "    \"Property Type\",\n",
    "    \"Original Loan Term\",\n",
    "    \"Number of Borrowers\",\n",
    "    \"Interest Only (I/O) Indicator\",\n",
    "    \"Loan Sequence Number\",\n",
    "    \"Delinquent\",\n",
    "]\n",
    "\n",
    "# Count the number of element in subset_names\n",
    "number_of_elements = len(subset_names)\n",
    "\n",
    "# Create a new dataframe with the subset_names\n",
    "\n",
    "# Let's create a subset of the data with the columns in subset_names\n",
    "data_subset_2007 = data_merged_simplified_2007[subset_names]\n",
    "\n",
    "# Verify the number of columns in the data_subset\n",
    "number_of_columns = data_subset_2007.shape[1]\n",
    "\n",
    "# Give me a summare of the values in each column of the data_subset\n",
    "summary = data_subset_2007.describe()\n",
    "# print(summary)\n",
    "# Let's check if the are missing values in any of the columns of the data_subset\n",
    "missing_values = data_subset_2007.isnull().sum()\n",
    "# print(missing_values)\n",
    "# Let's convert the missing values to np.nan\n",
    "values_to_replace = {\n",
    "    \"Credit Score\": [9999, 9999.0],\n",
    "    \"Number of Units\": [99, 99.0],\n",
    "    \"Mortgage Insurance Percentage (MI %)\": [999, 999.0],\n",
    "    \"Original Debt-to-Income (DTI) Ratio\": [999, 999.0],\n",
    "    \"Number of Borrowers\": [99, 99.0],\n",
    "    \"First Time Homebuyer Flag\": [\"9\"],\n",
    "}\n",
    "\n",
    "# Print the type of First Time Homebuyer Flag\n",
    "# print(data_subset_2007[\"First Time Homebuyer Flag\"].dtype)\n",
    "\n",
    "\n",
    "# Replace the values with np.nan\n",
    "for column, values in values_to_replace.items():\n",
    "    for value in values:\n",
    "        data_subset_2007[column] = data_subset_2007[column].replace(value, np.nan)\n",
    "\n",
    "# Delete the columns with np.nan values\n",
    "data_subset_2007 = data_subset_2007.dropna()\n",
    "\n",
    "# Let's sort of data by Loan Sequence Number\n",
    "data_subset_2007 = data_subset_2007.sort_values(\"Loan Sequence Number\")\n",
    "\n",
    "# Delete the column of Loan Sequence Number\n",
    "data_subset_2007 = data_subset_2007.drop(columns=\"Loan Sequence Number\")\n",
    "\n",
    "\n",
    "y_2007, X_2007 = patsy.dmatrices(\n",
    "    formula, data=data_subset_2007, return_type=\"dataframe\"\n",
    ")"
   ]
  },
  {
   "cell_type": "code",
   "execution_count": 27,
   "metadata": {},
   "outputs": [
    {
     "name": "stdout",
     "output_type": "stream",
     "text": [
      "The percentage of share Delinquent is 10.96395412342982%\n"
     ]
    }
   ],
   "source": [
    "# Count the number of Delinquent that at least have one delinquent in the column Delinquent\n",
    "count_loan_sequence_numbers_delinquent_2007 = (\n",
    "    data_subset_2007[\"Delinquent\"] == 1\n",
    ").sum()\n",
    "\n",
    "# Count the number of rows in Delinquent\n",
    "number_of_observation_2007 = data_subset_2007.shape[0]\n",
    "\n",
    "# Calculate the percentage of Loan Sequence Numbers that at least have one delinquent in the column Delinquent\n",
    "percentage_loan_sequence_numbers_delinquent_2007 = (\n",
    "    count_loan_sequence_numbers_delinquent_2007 / number_of_observation_2007\n",
    ") * 100\n",
    "print(\n",
    "    f\"The percentage of share Delinquent is {percentage_loan_sequence_numbers_delinquent_2007}%\"\n",
    ")\n",
    "\n",
    "results[\"ex16_share_delinquent\"] = (\n",
    "    percentage_loan_sequence_numbers_delinquent_2007 / 100\n",
    ")"
   ]
  },
  {
   "cell_type": "code",
   "execution_count": 28,
   "metadata": {},
   "outputs": [
    {
     "name": "stdout",
     "output_type": "stream",
     "text": [
      "The number of observation in the data_subset is 21972\n"
     ]
    },
    {
     "data": {
      "text/plain": [
       "{'ex2_merge_type': '1:m',\n",
       " 'ex4_num_mortgages': 17504,\n",
       " 'ex5_num_obs': 379461,\n",
       " 'ex7_num_mortgages': 17471,\n",
       " 'ex7_share_delinquent': 0.07108923358708717,\n",
       " 'ex10_num_obs': 17052,\n",
       " 'ex12_roc_auc': 0.7084,\n",
       " 'ex14_false_omission_rate': 0.04900398406374502,\n",
       " 'ex16_share_delinquent': 0.1096395412342982,\n",
       " 'ex16_num_obs': 21972}"
      ]
     },
     "execution_count": 28,
     "metadata": {},
     "output_type": "execute_result"
    }
   ],
   "source": [
    "number_of_observation_2007 = data_subset_2007.shape[0]\n",
    "print(f\"The number of observation in the data_subset is {number_of_observation_2007}\")\n",
    "\n",
    "results[\"ex16_num_obs\"] = number_of_observation_2007\n",
    "\n",
    "results"
   ]
  },
  {
   "cell_type": "markdown",
   "metadata": {},
   "source": [
    "### Exercise 17\n",
    "\n",
    "\n"
   ]
  },
  {
   "cell_type": "markdown",
   "metadata": {},
   "source": [
    "Had your stakeholder purchased mortgages using your model, what would the resulting False Omission Rate have been? (e.g., compare the predicted values for mortgages using the model trained above with realized outcomes). Store your result under the key `\"ex17_false_omission_rate\"`\n"
   ]
  },
  {
   "cell_type": "code",
   "execution_count": 29,
   "metadata": {},
   "outputs": [],
   "source": [
    "X_2007.rename(\n",
    "    columns={'C(Q(\"Number of Units\"))[T.2]': 'C(Q(\"Number of Units\"))[T.2.0]'},\n",
    "    inplace=True,\n",
    ")\n",
    "\n",
    "X_2007.rename(\n",
    "    columns={'C(Q(\"Number of Units\"))[T.3]': 'C(Q(\"Number of Units\"))[T.3.0]'},\n",
    "    inplace=True,\n",
    ")\n",
    "\n",
    "X_2007.rename(\n",
    "    columns={'C(Q(\"Number of Units\"))[T.4]': 'C(Q(\"Number of Units\"))[T.4.0]'},\n",
    "    inplace=True,\n",
    ")"
   ]
  },
  {
   "cell_type": "code",
   "execution_count": 30,
   "metadata": {},
   "outputs": [
    {
     "name": "stdout",
     "output_type": "stream",
     "text": [
      "The False Omission Rate is 0.0553\n"
     ]
    }
   ],
   "source": [
    "y_hat_prob_2007 = clf.predict_proba(X_2007)[:, 1]\n",
    "y_hat_08_2007 = (y_hat_prob_2007 > 0.08).astype(int)\n",
    "\n",
    "false_omission_rate_2007 = ((y_hat_08_2007 == 0) & (y_2007.squeeze() == 1)).sum() / (\n",
    "    (y_hat_08_2007 == 0).sum()\n",
    ")\n",
    "\n",
    "# Round to 4 decimal places\n",
    "false_omission_rate_2007 = round(false_omission_rate_2007, 4)\n",
    "\n",
    "\n",
    "results[\"ex17_false_omission_rate\"] = false_omission_rate_2007\n",
    "\n",
    "print(f\"The False Omission Rate is {false_omission_rate_2007}\")"
   ]
  },
  {
   "cell_type": "code",
   "execution_count": 31,
   "metadata": {},
   "outputs": [
    {
     "data": {
      "text/plain": [
       "{'ex2_merge_type': '1:m',\n",
       " 'ex4_num_mortgages': 17504,\n",
       " 'ex5_num_obs': 379461,\n",
       " 'ex7_num_mortgages': 17471,\n",
       " 'ex7_share_delinquent': 0.07108923358708717,\n",
       " 'ex10_num_obs': 17052,\n",
       " 'ex12_roc_auc': 0.7084,\n",
       " 'ex14_false_omission_rate': 0.04900398406374502,\n",
       " 'ex16_share_delinquent': 0.1096395412342982,\n",
       " 'ex16_num_obs': 21972,\n",
       " 'ex17_false_omission_rate': 0.0553}"
      ]
     },
     "execution_count": 31,
     "metadata": {},
     "output_type": "execute_result"
    }
   ],
   "source": [
    "results"
   ]
  },
  {
   "cell_type": "markdown",
   "metadata": {},
   "source": [
    "### Exercise 18\n",
    "\n",
    "How did the retrospective performance of your model compare to its actual performance moving forward? Why? Did you stay below the 5% target for mortgages that were predicted to be safe but in the end were not set by the stakeholder?"
   ]
  },
  {
   "cell_type": "markdown",
   "metadata": {},
   "source": [
    ">The retrospective performance, based on historical data in 2007 in this case, gives us an insight into how well the model was able to predict loan delinquency. A FOR of 0.0553 means that, retrospectively, 5.53% of loans that were predicted to be non-delinquent (safe) ended up being delinquent. This performance metric is crucial for understanding how well the model identifies loans at risk of delinquency. The FOR of 0.0553 indicates that the model did not stay below the 5% target set by the stakeholder for mortgages predicted to be safe but ended up being delinquent. This suggests that the model was slightly more optimistic in predicting loan safety, leading to a higher rate of missed delinquent loans than the stakeholder's target. "
   ]
  },
  {
   "cell_type": "code",
   "execution_count": 32,
   "metadata": {},
   "outputs": [
    {
     "data": {
      "text/plain": [
       "{'ex2_merge_type': '1:m',\n",
       " 'ex4_num_mortgages': 17504,\n",
       " 'ex5_num_obs': 379461,\n",
       " 'ex7_num_mortgages': 17471,\n",
       " 'ex7_share_delinquent': 0.07108923358708717,\n",
       " 'ex10_num_obs': 17052,\n",
       " 'ex12_roc_auc': 0.7084,\n",
       " 'ex14_false_omission_rate': 0.04900398406374502,\n",
       " 'ex16_share_delinquent': 0.1096395412342982,\n",
       " 'ex16_num_obs': 21972,\n",
       " 'ex17_false_omission_rate': 0.0553}"
      ]
     },
     "execution_count": 32,
     "metadata": {},
     "output_type": "execute_result"
    }
   ],
   "source": [
    "assert set(results.keys()) == {\n",
    "    \"ex2_merge_type\",\n",
    "    \"ex4_num_mortgages\",\n",
    "    \"ex5_num_obs\",\n",
    "    \"ex7_num_mortgages\",\n",
    "    \"ex7_share_delinquent\",\n",
    "    \"ex10_num_obs\",\n",
    "    \"ex12_roc_auc\",\n",
    "    \"ex14_false_omission_rate\",\n",
    "    \"ex16_num_obs\",\n",
    "    \"ex16_share_delinquent\",\n",
    "    \"ex17_false_omission_rate\",\n",
    "}\n",
    "\n",
    "results"
   ]
  }
 ],
 "metadata": {
  "kernelspec": {
   "display_name": "dask_env",
   "language": "python",
   "name": "python3"
  },
  "language_info": {
   "codemirror_mode": {
    "name": "ipython",
    "version": 3
   },
   "file_extension": ".py",
   "mimetype": "text/x-python",
   "name": "python",
   "nbconvert_exporter": "python",
   "pygments_lexer": "ipython3",
   "version": "3.11.7"
  }
 },
 "nbformat": 4,
 "nbformat_minor": 2
}
